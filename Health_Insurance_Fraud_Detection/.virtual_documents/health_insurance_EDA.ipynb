import pandas as pd
df = pd.read_excel('Worksheet in Case Study question 2.xlsx')
df.head()


df.shape


df.isnull().sum()


df.duplicated().sum()


df.describe().T


df.columns


df['auto_make'].nunique()


df['auto_make'].unique()


df['auto_model'].unique()


df['fraud_reported'].value_counts()


df['police_report_available'].value_counts()


df['incident_type'].value_counts()


df['insured_hobbies'].value_counts()


df['insured_sex'].value_counts()


df['age'].unique()


df[df['age'] > 63]


df['fraud_reported'].value_counts()


import matplotlib.pyplot as plt
import seaborn as sns
import plotly.express as px
import plotly.graph_objects as go


# Use: To visualize the distribution of a single numerical variable.

sns.histplot(df['total_claim_amount'])
plt.show()


# Use: To compare the frequency or distribution of categorical variables.

sns.barplot(x=df['policy_state'],y=df['total_claim_amount'])
plt.show()


# Purpose: Tracking trends over time (continuous variable). Useful for spotting seasonal patterns in fraud reports or claim amounts over months_as_customer.


sns.lineplot(x=df['months_as_customer'] , y=df['total_claim_amount'])
plt.show()


df['months_as_customer'].describe()


sns.lineplot(x=df['policy_bind_date'],y=df['total_claim_amount'])


sns.lineplot(x=df['months_as_customer'] ,y=df['age'])


# Purpose: Exploring relationships between numerical variables. 
# Can be used to investigate potential correlations between capital-gains and total_claim_amount (be cautious of interpreting causation).
# X-axis: One numerical variable (e.g., capital-gains).
# Y-axis: Another numerical variable (e.g., total_claim_amount).

sns.scatterplot(x=df['capital-gains'] , y=df['total_claim_amount'])
plt.show()


sns.scatterplot(x=df['total_claim_amount'] , y=df['vehicle_claim'])
plt.show()


# The relationship between 'total_claim_amount' and 'vehicle_claim' could indicate how one variable changes as the other variable changes.
# For example, if there's a positive correlation, it means that as 'total_claim_amount' increases, 'vehicle_claim' also tends to increase.
# Conversely, if there's a negative correlation, it means that as 'total_claim_amount' increases, 'vehicle_claim' tends to decrease.


# Use: To show the proportion of different categories within a dataset.

data = df['insured_sex'].value_counts()
plt.pie(x=data.values , labels=data.index , colors=['r','b'] , autopct="%1.1f%%")
plt.legend()
plt.show()


# Use: To visualize the distribution of numerical data across different categories.
# X-axis: Categorical variable (e.g., policy_state, incident_type)
# Y-axis: Numerical variable (e.g., total_claim_amount)
sns.violinplot(x=df['incident_type'] , y=df['total_claim_amount'])
plt.xticks(rotation=45)
plt.show()


# The violin plot will display the distribution of 'total_claim_amount' for each category of 'incident_type'.
# This can help you understand how the total claim amounts are distributed across different types of incidents.


# Selecting numerical columns
numeric_df = df.select_dtypes(include='number')

# Calculating correlation matrix
corr = numeric_df.corr()

# Creating heatmap
plt.figure(figsize=(12, 8))
sns.heatmap(corr, annot=True, cmap='coolwarm', fmt=".2f", linewidths=0.5)
plt.title("Correlation Matrix of Numerical Columns")
plt.xticks(rotation=90)
plt.yticks(rotation=0)
plt.show()


df['fraud_reported'].value_counts()


fraud_mapping = {
    "N" : 0,
    "Y" : 1
}

target_maped = df['fraud_reported'].map(fraud_mapping)


df.columns


grouped = df.groupby(['policy_state', 'incident_type'])['total_claim_amount'].mean()


grouped.reset_index()


grouped_m = df.groupby(['policy_state', 'incident_type', 'fraud_reported']).agg({
    'months_as_customer': 'mean',
    'age': 'mean',
    'total_claim_amount': ['mean', 'sum'],
    # You can add more numerical columns here
})


grouped_m.reset_index()


import matplotlib.pyplot as plt

# Plot mean months_as_customer
grouped_m['months_as_customer']['mean'].plot(kind='bar', figsize=(10, 6))
plt.title('Mean Months as Customer by Group')
plt.xlabel('Group (Policy State, Incident Type, Fraud Reported)')
plt.ylabel('Mean Months as Customer')
plt.xticks(rotation=45, ha='right')
plt.tight_layout()
plt.show()

# Plot mean age
grouped_m['age']['mean'].plot(kind='bar', figsize=(10, 6))
plt.title('Mean Age by Group')
plt.xlabel('Group (Policy State, Incident Type, Fraud Reported)')
plt.ylabel('Mean Age')
plt.xticks(rotation=45, ha='right')
plt.tight_layout()
plt.show()

# Plot mean and sum total_claim_amount
grouped_m['total_claim_amount'].plot(kind='bar', figsize=(10, 6))
plt.title('Mean and Sum Total Claim Amount by Group')
plt.xlabel('Group (Policy State, Incident Type, Fraud Reported)')
plt.ylabel('Total Claim Amount')
plt.legend(['Mean', 'Sum'])
plt.xticks(rotation=45, ha='right')
plt.tight_layout()
plt.show()






missing = df.isnull().sum() / len(df)
missing = missing[missing > 0]
missing



