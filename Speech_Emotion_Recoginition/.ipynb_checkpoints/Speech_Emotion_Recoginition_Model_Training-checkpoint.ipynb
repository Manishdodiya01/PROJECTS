{
 "cells": [
  {
   "cell_type": "markdown",
   "id": "71562dd7-71d6-457c-8e82-bedabf0c5e87",
   "metadata": {},
   "source": [
    "# Import Library"
   ]
  },
  {
   "cell_type": "code",
   "execution_count": 74,
   "id": "5e3c3f57-0d08-4fc3-9734-2465d92571e9",
   "metadata": {},
   "outputs": [],
   "source": [
    "import os\n",
    "import librosa\n",
    "import numpy as np\n",
    "import pandas as pd\n",
    "from sklearn.model_selection import train_test_split\n",
    "from sklearn.preprocessing import LabelEncoder , OneHotEncoder\n",
    "from keras.models import Sequential\n",
    "from keras.layers import LSTM , Dense , Dropout , BatchNormalization\n",
    "from keras.callbacks import EarlyStopping"
   ]
  },
  {
   "cell_type": "markdown",
   "id": "8e65be35-8f9c-454d-a889-0f89fb851d19",
   "metadata": {},
   "source": [
    "# Load the TESS Dataset"
   ]
  },
  {
   "cell_type": "code",
   "execution_count": 75,
   "id": "e547d867-3fc1-43ba-9318-8060a51cde89",
   "metadata": {},
   "outputs": [],
   "source": [
    "data_dir = \"dataverse_files\""
   ]
  },
  {
   "cell_type": "markdown",
   "id": "695e1f08-cf92-4fec-b913-09d385eecf72",
   "metadata": {},
   "source": [
    "# Extract Features from Audio Files"
   ]
  },
  {
   "cell_type": "code",
   "execution_count": 76,
   "id": "d26f1197-a935-4940-acc7-ff4f71bad73b",
   "metadata": {},
   "outputs": [],
   "source": [
    "def Extract_Feature(file_path):\n",
    "    audio_data , sr = librosa.load(file_path)\n",
    "    mfccs = librosa.feature.mfcc(y=audio_data , sr=sr)\n",
    "    return mfccs"
   ]
  },
  {
   "cell_type": "markdown",
   "id": "81f50124-629f-4d55-b6f8-b053eaea53ce",
   "metadata": {},
   "source": [
    "# Prepare Data and Labels"
   ]
  },
  {
   "cell_type": "code",
   "execution_count": 77,
   "id": "c41f94b7-c837-4602-9650-223018e61171",
   "metadata": {},
   "outputs": [],
   "source": [
    "features = []\n",
    "labels = []\n",
    "max_pad_len = 100\n",
    "\n",
    "for root, dirs, files in os.walk(data_dir):\n",
    "    for file in files:\n",
    "        if file.endswith('.wav'):\n",
    "            file_path = os.path.join(root, file)\n",
    "            emotion = file.split('_')[2]\n",
    "            emotion = emotion.split('.')[0]\n",
    "            \n",
    "            # Extract features and pad/truncate to a fixed length\n",
    "            mfccs = Extract_Feature(file_path)\n",
    "            \n",
    "            # Pad or truncate the array to ensure fixed length\n",
    "            if mfccs.shape[1] < max_pad_len:\n",
    "                padded_mfccs = np.pad(mfccs, ((0, 0), (0, max_pad_len - mfccs.shape[1])), mode='constant')\n",
    "            else:\n",
    "                padded_mfccs = mfccs[:, :max_pad_len]\n",
    "            features.append(padded_mfccs)\n",
    "            labels.append(emotion)"
   ]
  },
  {
   "cell_type": "code",
   "execution_count": 78,
   "id": "f5e720cc-58f2-4a0b-acb9-9bcb0774b076",
   "metadata": {},
   "outputs": [],
   "source": [
    "X = features\n",
    "y = labels"
   ]
  },
  {
   "cell_type": "markdown",
   "id": "1f5ee68b-70f3-453f-a1dd-39d67616ea02",
   "metadata": {},
   "source": [
    "# converting lists to NumPy arrays enhances performance, facilitates integration with other libraries, and provides access to advanced array manipulation capabilities, making it a common practice in data analysis and machine learning workflows."
   ]
  },
  {
   "cell_type": "code",
   "execution_count": 79,
   "id": "195fd267-6ec8-486b-8dfd-a155619d02f3",
   "metadata": {},
   "outputs": [],
   "source": [
    "X = np.array(X)"
   ]
  },
  {
   "cell_type": "markdown",
   "id": "a77f4822-ff4c-4548-a264-1cc13fa7ff3e",
   "metadata": {},
   "source": [
    "# Encode the categorical labels into integers"
   ]
  },
  {
   "cell_type": "code",
   "execution_count": 80,
   "id": "90519f29-1448-40d2-b6ed-6bb1c128e55a",
   "metadata": {},
   "outputs": [],
   "source": [
    "Label_encoder = LabelEncoder()\n",
    "y = Label_encoder.fit_transform(y)"
   ]
  },
  {
   "cell_type": "markdown",
   "id": "0e5b1e63-09cb-46af-bca7-f8f4fe87774b",
   "metadata": {},
   "source": [
    "# Convert the encoded categorical labels into one-hot encoded format"
   ]
  },
  {
   "cell_type": "code",
   "execution_count": 82,
   "id": "716dd2c7-f0f8-4b17-8b51-2fdd004d8298",
   "metadata": {},
   "outputs": [],
   "source": [
    "from keras.utils import to_categorical\n",
    "\n",
    "y_one_hot = to_categorical(y)"
   ]
  },
  {
   "cell_type": "markdown",
   "id": "9964d8b5-191f-4fbd-960e-4944cf272ef8",
   "metadata": {},
   "source": [
    "# Split data into train and test sets"
   ]
  },
  {
   "cell_type": "code",
   "execution_count": 83,
   "id": "d6710845-1424-42e8-962d-6819dafa02c4",
   "metadata": {},
   "outputs": [],
   "source": [
    "X_train, X_test, y_train, y_test = train_test_split(X, y_one_hot, test_size=0.2, random_state=42)"
   ]
  },
  {
   "cell_type": "markdown",
   "id": "8a8b5dd7-c83b-4e26-b6ff-a85a7f59f498",
   "metadata": {},
   "source": [
    "# Define and Train LSTM Model"
   ]
  },
  {
   "cell_type": "code",
   "execution_count": 84,
   "id": "c8ab7e46-fb6e-4c5f-b975-1d4733137597",
   "metadata": {},
   "outputs": [],
   "source": [
    "model = Sequential([\n",
    "    LSTM(128, input_shape=(X_train.shape[1], X_train.shape[2]), dropout=0.2, recurrent_dropout=0.2),\n",
    "    Dropout(0.2),\n",
    "    Dense(64, activation='relu'),\n",
    "    Dropout(0.2),\n",
    "    Dense(y_one_hot.shape[1], activation='softmax')\n",
    "])"
   ]
  },
  {
   "cell_type": "code",
   "execution_count": 85,
   "id": "75da2578-9cc2-4db5-bf03-c2b6c490815a",
   "metadata": {},
   "outputs": [
    {
     "name": "stdout",
     "output_type": "stream",
     "text": [
      "Model: \"sequential_3\"\n",
      "_________________________________________________________________\n",
      " Layer (type)                Output Shape              Param #   \n",
      "=================================================================\n",
      " lstm_4 (LSTM)               (None, 128)               117248    \n",
      "                                                                 \n",
      " dropout_2 (Dropout)         (None, 128)               0         \n",
      "                                                                 \n",
      " dense_7 (Dense)             (None, 64)                8256      \n",
      "                                                                 \n",
      " dropout_3 (Dropout)         (None, 64)                0         \n",
      "                                                                 \n",
      " dense_8 (Dense)             (None, 7)                 455       \n",
      "                                                                 \n",
      "=================================================================\n",
      "Total params: 125959 (492.03 KB)\n",
      "Trainable params: 125959 (492.03 KB)\n",
      "Non-trainable params: 0 (0.00 Byte)\n",
      "_________________________________________________________________\n"
     ]
    }
   ],
   "source": [
    "model.summary()"
   ]
  },
  {
   "cell_type": "markdown",
   "id": "927cc264-bd78-4603-9faa-dde3c0ece7db",
   "metadata": {},
   "source": [
    "# Compile Model"
   ]
  },
  {
   "cell_type": "code",
   "execution_count": 86,
   "id": "5b1276c4-c4bc-4188-8279-63c65cc1061f",
   "metadata": {},
   "outputs": [],
   "source": [
    "model.compile(optimizer='adam', loss='categorical_crossentropy', metrics=['accuracy'])"
   ]
  },
  {
   "cell_type": "code",
   "execution_count": 87,
   "id": "556e93bb-e60a-41c2-9b11-1afe306aa6f7",
   "metadata": {},
   "outputs": [
    {
     "name": "stdout",
     "output_type": "stream",
     "text": [
      "Epoch 1/50\n",
      "70/70 [==============================] - 4s 27ms/step - loss: 1.5467 - accuracy: 0.4397 - val_loss: 0.9789 - val_accuracy: 0.7286\n",
      "Epoch 2/50\n",
      "70/70 [==============================] - 1s 19ms/step - loss: 0.8385 - accuracy: 0.7491 - val_loss: 0.5151 - val_accuracy: 0.8268\n",
      "Epoch 3/50\n",
      "70/70 [==============================] - 1s 20ms/step - loss: 0.5375 - accuracy: 0.8335 - val_loss: 0.3815 - val_accuracy: 0.8589\n",
      "Epoch 4/50\n",
      "70/70 [==============================] - 1s 20ms/step - loss: 0.3700 - accuracy: 0.8786 - val_loss: 0.3382 - val_accuracy: 0.8750\n",
      "Epoch 5/50\n",
      "70/70 [==============================] - 1s 19ms/step - loss: 0.2983 - accuracy: 0.9054 - val_loss: 0.2802 - val_accuracy: 0.8946\n",
      "Epoch 6/50\n",
      "70/70 [==============================] - 1s 19ms/step - loss: 0.2252 - accuracy: 0.9304 - val_loss: 0.2454 - val_accuracy: 0.9161\n",
      "Epoch 7/50\n",
      "70/70 [==============================] - 1s 19ms/step - loss: 0.1985 - accuracy: 0.9339 - val_loss: 0.1955 - val_accuracy: 0.9357\n",
      "Epoch 8/50\n",
      "70/70 [==============================] - 1s 20ms/step - loss: 0.1505 - accuracy: 0.9531 - val_loss: 0.1977 - val_accuracy: 0.9357\n",
      "Epoch 9/50\n",
      "70/70 [==============================] - 2s 23ms/step - loss: 0.1329 - accuracy: 0.9585 - val_loss: 0.1838 - val_accuracy: 0.9411\n",
      "Epoch 10/50\n",
      "70/70 [==============================] - 2s 22ms/step - loss: 0.1171 - accuracy: 0.9643 - val_loss: 0.1881 - val_accuracy: 0.9393\n",
      "Epoch 11/50\n",
      "70/70 [==============================] - 1s 20ms/step - loss: 0.0957 - accuracy: 0.9732 - val_loss: 0.1769 - val_accuracy: 0.9393\n",
      "Epoch 12/50\n",
      "70/70 [==============================] - 2s 22ms/step - loss: 0.0888 - accuracy: 0.9692 - val_loss: 0.1661 - val_accuracy: 0.9464\n",
      "Epoch 13/50\n",
      "70/70 [==============================] - 2s 23ms/step - loss: 0.0833 - accuracy: 0.9737 - val_loss: 0.1851 - val_accuracy: 0.9446\n",
      "Epoch 14/50\n",
      "70/70 [==============================] - 1s 21ms/step - loss: 0.0718 - accuracy: 0.9799 - val_loss: 0.1832 - val_accuracy: 0.9357\n",
      "Epoch 15/50\n",
      "70/70 [==============================] - 1s 20ms/step - loss: 0.0730 - accuracy: 0.9732 - val_loss: 0.1798 - val_accuracy: 0.9482\n"
     ]
    }
   ],
   "source": [
    "# Define early stopping callback\n",
    "early_stopping = EarlyStopping(monitor='val_loss', patience=3, restore_best_weights=True)\n",
    "\n",
    "history = model.fit(X_train, y_train, epochs=50, batch_size=32, validation_data=(X_test, y_test), callbacks=[early_stopping])"
   ]
  },
  {
   "cell_type": "markdown",
   "id": "d1a0c862-e80e-4d0d-bb93-5f5cba2a5dbe",
   "metadata": {},
   "source": [
    "# PLOTING"
   ]
  },
  {
   "cell_type": "code",
   "execution_count": 88,
   "id": "8cfb6cd7-c8a6-4037-877b-1cd79c522892",
   "metadata": {},
   "outputs": [],
   "source": [
    "import matplotlib.pyplot as plt"
   ]
  },
  {
   "cell_type": "code",
   "execution_count": 89,
   "id": "7903d3fa-acf6-45ad-975b-690dfbe8ad2d",
   "metadata": {},
   "outputs": [],
   "source": [
    "accuracy = history.history['accuracy']\n",
    "loss = history.history['loss']\n",
    "val_accuracy = history.history['val_accuracy']\n",
    "val_loss = history.history['val_accuracy']"
   ]
  },
  {
   "cell_type": "code",
   "execution_count": 90,
   "id": "8b62d10d-dc45-4ad0-8e4e-470acb79fede",
   "metadata": {},
   "outputs": [
    {
     "data": {
      "image/png": "[encoded data removed]",
      "text/plain": [
       "<Figure size 640x480 with 1 Axes>"
      ]
     },
     "metadata": {},
     "output_type": "display_data"
    }
   ],
   "source": [
    "plt.plot(accuracy , color='red' , label='TRAINING-ACCURACY')\n",
    "plt.plot(val_accuracy , color='blue' , label='TEST-ACCURACY')\n",
    "plt.xlabel('Epoch')\n",
    "plt.ylabel('Accuracy')\n",
    "plt.legend()\n",
    "plt.show()"
   ]
  },
  {
   "cell_type": "code",
   "execution_count": 91,
   "id": "c9a8cbe6-e630-4c58-ac81-dfd4239e5d93",
   "metadata": {},
   "outputs": [
    {
     "data": {
      "image/png": "[encoded data removed]",
      "text/plain": [
       "<Figure size 640x480 with 1 Axes>"
      ]
     },
     "metadata": {},
     "output_type": "display_data"
    }
   ],
   "source": [
    "plt.plot(loss , color='red' , label='TRAINING-ACCURACY')\n",
    "plt.plot(val_loss , color='blue' , label='TEST-ACCURACY')\n",
    "plt.xlabel('Epoch')\n",
    "plt.ylabel('Accuracy')\n",
    "plt.legend()\n",
    "plt.show()"
   ]
  },
  {
   "cell_type": "code",
   "execution_count": 92,
   "id": "ecc2b822-393e-484e-82c3-add9a2d0411a",
   "metadata": {},
   "outputs": [
    {
     "name": "stdout",
     "output_type": "stream",
     "text": [
      "18/18 [==============================] - 0s 6ms/step\n",
      "Accuracy: 0.9464285714285714\n"
     ]
    }
   ],
   "source": [
    "# Make predictions\n",
    "predictions = model.predict(X_test)\n",
    "\n",
    "# Convert predicted probabilities to labels\n",
    "predicted_labels = np.argmax(predictions, axis=1)\n",
    "\n",
    "# Convert one-hot encoded labels back to original labels\n",
    "actual_labels = np.argmax(y_test, axis=1)\n",
    "\n",
    "# Compare predicted labels with actual labels\n",
    "correct_predictions = (predicted_labels == actual_labels)\n",
    "\n",
    "# Calculate accuracy\n",
    "accuracy = np.mean(correct_predictions)\n",
    "print(\"Accuracy:\", accuracy)"
   ]
  },
  {
   "cell_type": "markdown",
   "id": "9f67d180-50e3-44fc-b20b-077c5508fa1f",
   "metadata": {},
   "source": [
    "# MODEL ERROR"
   ]
  },
  {
   "cell_type": "code",
   "execution_count": 93,
   "id": "e0830a09-7c33-4fa5-9c5f-aa8bcffd8696",
   "metadata": {},
   "outputs": [
    {
     "name": "stdout",
     "output_type": "stream",
     "text": [
      "MODEL-ERROR-RATE : 2.1474524\n"
     ]
    }
   ],
   "source": [
    "Error_rate = abs(y_test - predictions) * 100\n",
    "print('MODEL-ERROR-RATE :',Error_rate.mean())"
   ]
  },
  {
   "cell_type": "code",
   "execution_count": 101,
   "id": "0f47f3e4-da82-4e55-9e43-69b47ae5ceae",
   "metadata": {},
   "outputs": [],
   "source": [
    "def extract_feature(file_path):\n",
    "    audio_data, sr = librosa.load(file_path)\n",
    "    mfccs = librosa.feature.mfcc(y=audio_data, sr=sr)\n",
    "    return mfccs\n",
    "\n",
    "def preprocess_data(features, max_pad_len=100):\n",
    "    padded_features = []\n",
    "    for mfccs in features:\n",
    "        if mfccs.shape[1] < max_pad_len:\n",
    "            padded_mfccs = np.pad(mfccs, ((0, 0), (0, max_pad_len - mfccs.shape[1])), mode='constant')\n",
    "        else:\n",
    "            padded_mfccs = mfccs[:, :max_pad_len]\n",
    "        padded_features.append(padded_mfccs)\n",
    "    return np.array(padded_features)"
   ]
  },
  {
   "cell_type": "code",
   "execution_count": 170,
   "id": "e5897262-dd7b-4e11-aaa2-d006ceb18ee8",
   "metadata": {},
   "outputs": [
    {
     "name": "stdout",
     "output_type": "stream",
     "text": [
      "1/1 [==============================] - 0s 80ms/step\n",
      "Predicted Emotion: angry\n"
     ]
    }
   ],
   "source": [
    "def predict_emotion(audio_file_path, model, Label_encoder, max_pad_len=100):\n",
    "    # Extract features from the audio file\n",
    "    mfccs = extract_feature(audio_file_path)\n",
    "    \n",
    "    # Preprocess the features\n",
    "    padded_mfccs = preprocess_data([mfccs], max_pad_len)\n",
    "    \n",
    "    # Make predictions using the model\n",
    "    predictions = model.predict(padded_mfccs)\n",
    "    \n",
    "    # Convert the predicted labels to emotions\n",
    "    predicted_label = np.argmax(predictions)\n",
    "    predicted_emotion = Label_encoder.inverse_transform([predicted_label])[0]\n",
    "    \n",
    "    return predicted_emotion\n",
    "\n",
    "# Usage:\n",
    "audio_file_path = \"Y2meta.app - Sad music meme (cut) (128 kbps).wav\"\n",
    "predicted_emotion = predict_emotion(audio_file_path, model, Label_encoder)\n",
    "print(\"Predicted Emotion:\", predicted_emotion)"
   ]
  },
  {
   "cell_type": "code",
   "execution_count": 174,
   "id": "d05cd6d0-ba23-4043-a9a1-fdeb67e56455",
   "metadata": {},
   "outputs": [],
   "source": [
    "import librosa\n",
    "import numpy as np\n",
    "from tensorflow.keras.models import load_model\n",
    "\n",
    "# Load the trained model\n",
    "#model = load_model('emotion_model.h5')  # Replace 'emotion_model.h5' with the filename of your trained model\n",
    "\n",
    "# Function to extract features from audio file\n",
    "def extract_feature(file_path):\n",
    "    audio_data, sr = librosa.load(file_path)\n",
    "    mfccs = librosa.feature.mfcc(y=audio_data, sr=sr)\n",
    "    return mfccs\n",
    "\n",
    "# Function to preprocess features\n",
    "def preprocess_features(features, max_pad_len=100):\n",
    "    # Pad or truncate the array to ensure fixed length\n",
    "    if features.shape[1] < max_pad_len:\n",
    "        padded_features = np.pad(features, ((0, 0), (0, max_pad_len - features.shape[1])), mode='constant')\n",
    "    else:\n",
    "        padded_features = features[:, :max_pad_len]\n",
    "    return padded_features\n",
    "\n",
    "# Function to predict emotion\n",
    "def predict_emotion(file_path):\n",
    "    # Define emotion labels\n",
    "    emotion_labels = ['angry', 'disgust', 'fear', 'happy', 'neutral', 'ps', 'sad']\n",
    "    \n",
    "    # Extract features\n",
    "    features = extract_feature(file_path)\n",
    "    # Preprocess features\n",
    "    padded_features = preprocess_features(features)\n",
    "    # Reshape features to match model input shape\n",
    "    reshaped_features = np.expand_dims(padded_features, axis=0)  # Add batch dimension\n",
    "    # Perform prediction\n",
    "    predicted_emotion = model.predict(reshaped_features)\n",
    "    # Get the index of the maximum probability\n",
    "    predicted_class_index = np.argmax(predicted_emotion, axis=1)[0]\n",
    "    # Get the corresponding emotion label\n",
    "    predicted_emotion_label = emotion_labels[predicted_class_index]\n",
    "    return predicted_emotion_label"
   ]
  },
  {
   "cell_type": "code",
   "execution_count": 195,
   "id": "0978e2f9-8915-485f-aa14-85533d055636",
   "metadata": {},
   "outputs": [
    {
     "name": "stdout",
     "output_type": "stream",
     "text": [
      "1/1 [==============================] - 0s 47ms/step\n"
     ]
    },
    {
     "data": {
      "text/plain": [
       "'disgust'"
      ]
     },
     "execution_count": 195,
     "metadata": {},
     "output_type": "execute_result"
    }
   ],
   "source": [
    "file_path = \"dataverse_files/OAF_bean_disgust.wav\"\n",
    "predict_emotion(file_path)"
   ]
  },
  {
   "cell_type": "code",
   "execution_count": 197,
   "id": "4dad4bf4-0b92-4f17-970b-7e209158bfa7",
   "metadata": {},
   "outputs": [],
   "source": [
    "model.save('lstm_model.keras')"
   ]
  },
  {
   "cell_type": "code",
   "execution_count": 200,
   "id": "277ed282-8f2f-4657-88c3-a3d56bfc7443",
   "metadata": {},
   "outputs": [
    {
     "name": "stdout",
     "output_type": "stream",
     "text": [
      "1/1 [==============================] - 0s 495ms/step\n"
     ]
    },
    {
     "data": {
      "text/plain": [
       "'disgust'"
      ]
     },
     "execution_count": 200,
     "metadata": {},
     "output_type": "execute_result"
    }
   ],
   "source": [
    "import librosa\n",
    "import numpy as np\n",
    "from tensorflow.keras.models import load_model\n",
    "\n",
    "# Load the trained model\n",
    "model = load_model('lstm_model.keras')  # Replace 'emotion_model.h5' with the filename of your trained model\n",
    "\n",
    "# Function to extract features from audio file\n",
    "def extract_feature(file_path):\n",
    "    audio_data, sr = librosa.load(file_path)\n",
    "    mfccs = librosa.feature.mfcc(y=audio_data, sr=sr)\n",
    "    return mfccs\n",
    "\n",
    "# Function to preprocess features\n",
    "def preprocess_features(features, max_pad_len=100):\n",
    "    # Pad or truncate the array to ensure fixed length\n",
    "    if features.shape[1] < max_pad_len:\n",
    "        padded_features = np.pad(features, ((0, 0), (0, max_pad_len - features.shape[1])), mode='constant')\n",
    "    else:\n",
    "        padded_features = features[:, :max_pad_len]\n",
    "    return padded_features\n",
    "\n",
    "# Function to predict emotion\n",
    "def predict_emotion(file_path):\n",
    "    # Define emotion labels\n",
    "    emotion_labels = ['angry', 'disgust', 'fear', 'happy', 'neutral', 'ps', 'sad']\n",
    "    \n",
    "    # Extract features\n",
    "    features = extract_feature(file_path)\n",
    "    # Preprocess features\n",
    "    padded_features = preprocess_features(features)\n",
    "    # Reshape features to match model input shape\n",
    "    reshaped_features = np.expand_dims(padded_features, axis=0)  # Add batch dimension\n",
    "    # Perform prediction\n",
    "    predicted_emotion = model.predict(reshaped_features)\n",
    "    # Get the index of the maximum probability\n",
    "    predicted_class_index = np.argmax(predicted_emotion, axis=1)[0]\n",
    "    # Get the corresponding emotion label\n",
    "    predicted_emotion_label = emotion_labels[predicted_class_index]\n",
    "    return predicted_emotion_label\n",
    "\n",
    "file_path = \"dataverse_files/OAF_base_disgust.wav\"\n",
    "predict_emotion(file_path)"
   ]
  },
  {
   "cell_type": "code",
   "execution_count": null,
   "id": "c9068715-77fc-41c3-8b02-a5f0c8fec294",
   "metadata": {},
   "outputs": [],
   "source": []
  }
 ],
 "metadata": {
  "kernelspec": {
   "display_name": "Python 3 (ipykernel)",
   "language": "python",
   "name": "python3"
  },
  "language_info": {
   "codemirror_mode": {
    "name": "ipython",
    "version": 3
   },
   "file_extension": ".py",
   "mimetype": "text/x-python",
   "name": "python",
   "nbconvert_exporter": "python",
   "pygments_lexer": "ipython3",
   "version": "3.11.5"
  }
 },
 "nbformat": 4,
 "nbformat_minor": 5
}
