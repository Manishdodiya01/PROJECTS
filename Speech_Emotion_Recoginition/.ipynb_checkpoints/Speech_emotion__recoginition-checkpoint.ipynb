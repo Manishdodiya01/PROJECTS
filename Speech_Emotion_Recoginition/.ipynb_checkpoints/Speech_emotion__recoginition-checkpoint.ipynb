{
 "cells": [
  {
   "cell_type": "code",
   "execution_count": 1,
   "id": "b00062d7-bc1a-466d-9195-de8c08520195",
   "metadata": {},
   "outputs": [
    {
     "name": "stdout",
     "output_type": "stream",
     "text": [
      "WARNING:tensorflow:From C:\\Users\\dodiy\\anaconda3\\Lib\\site-packages\\keras\\src\\losses.py:2976: The name tf.losses.sparse_softmax_cross_entropy is deprecated. Please use tf.compat.v1.losses.sparse_softmax_cross_entropy instead.\n",
      "\n"
     ]
    }
   ],
   "source": [
    "import os\n",
    "import librosa\n",
    "import numpy as np\n",
    "import pandas as pd\n",
    "from sklearn.model_selection import train_test_split\n",
    "from sklearn.preprocessing import LabelEncoder , OneHotEncoder\n",
    "import tensorflow as tf\n",
    "from tensorflow.keras import layers, models\n",
    "from keras.models import Sequential\n",
    "from keras.layers import LSTM , Dense"
   ]
  },
  {
   "cell_type": "code",
   "execution_count": 2,
   "id": "e33f04db-f1c6-4569-bf41-4d0111b7d1e7",
   "metadata": {},
   "outputs": [],
   "source": [
    "data_dir = \"dataverse_files\""
   ]
  },
  {
   "cell_type": "code",
   "execution_count": 3,
   "id": "2a0e67fe-40ae-4c7f-ab0c-3f3f47081aa1",
   "metadata": {},
   "outputs": [],
   "source": [
    "def extract_features(file_path):\n",
    "    audio_data, sr = librosa.load(file_path)\n",
    "    mfccs = librosa.feature.mfcc(y=audio_data, sr=sr, n_mfcc=40)\n",
    "    return mfccs"
   ]
  },
  {
   "cell_type": "code",
   "execution_count": 4,
   "id": "ef38f8c9-902e-4c85-b2b6-4153e8d7be57",
   "metadata": {},
   "outputs": [
    {
     "name": "stderr",
     "output_type": "stream",
     "text": [
      "C:\\Users\\dodiy\\anaconda3\\Lib\\site-packages\\sklearn\\preprocessing\\_encoders.py:868: FutureWarning: `sparse` was renamed to `sparse_output` in version 1.2 and will be removed in 1.4. `sparse_output` is ignored unless you leave `sparse` to its default value.\n",
      "  warnings.warn(\n"
     ]
    }
   ],
   "source": [
    "from sklearn.preprocessing import OneHotEncoder\n",
    "\n",
    "# Prepare data and labels\n",
    "max_pad_len = 100  # Choose the maximum length for padding\n",
    "\n",
    "features = []\n",
    "labels = []\n",
    "\n",
    "for root, dirs, files in os.walk(data_dir):\n",
    "    for file in files:\n",
    "        if file.endswith('.wav'):\n",
    "            file_path = os.path.join(root, file)\n",
    "            emotion = file.split('_')[2]  # Assuming file names are structured like '..._emotion.wav'\n",
    "            # Extract features and pad/truncate to a fixed length\n",
    "            mfccs = extract_features(file_path)\n",
    "            # Pad or truncate the array to ensure fixed length\n",
    "            if mfccs.shape[1] < max_pad_len:\n",
    "                padded_mfccs = np.pad(mfccs, ((0, 0), (0, max_pad_len - mfccs.shape[1])), mode='constant')\n",
    "            else:\n",
    "                padded_mfccs = mfccs[:, :max_pad_len]\n",
    "            features.append(padded_mfccs)\n",
    "            labels.append(emotion)\n",
    "\n",
    "# Convert lists to numpy arrays\n",
    "X = np.array(features)\n",
    "\n",
    "# One-hot encode the labels\n",
    "one_hot_encoder = OneHotEncoder(sparse=False)\n",
    "y = one_hot_encoder.fit_transform(np.array(labels).reshape(-1, 1))\n",
    "\n",
    "# Split data into train and test sets\n",
    "X_train, X_test, y_train, y_test = train_test_split(X, y, test_size=0.2, random_state=42)"
   ]
  },
  {
   "cell_type": "code",
   "execution_count": 8,
   "id": "fb2d45ae-6e5d-4781-ab24-83d3e679573e",
   "metadata": {},
   "outputs": [
    {
     "name": "stdout",
     "output_type": "stream",
     "text": [
      "Epoch 1/10\n",
      "70/70 [==============================] - 4s 30ms/step - loss: 1.2442 - accuracy: 0.5848 - val_loss: 0.6348 - val_accuracy: 0.8179\n",
      "Epoch 2/10\n",
      "70/70 [==============================] - 1s 21ms/step - loss: 0.3269 - accuracy: 0.9254 - val_loss: 0.3492 - val_accuracy: 0.8786\n",
      "Epoch 3/10\n",
      "70/70 [==============================] - 1s 20ms/step - loss: 0.0951 - accuracy: 0.9871 - val_loss: 0.2401 - val_accuracy: 0.9304\n",
      "Epoch 4/10\n",
      "70/70 [==============================] - 1s 20ms/step - loss: 0.0295 - accuracy: 0.9996 - val_loss: 0.2043 - val_accuracy: 0.9411\n",
      "Epoch 5/10\n",
      "70/70 [==============================] - 1s 20ms/step - loss: 0.0122 - accuracy: 1.0000 - val_loss: 0.1928 - val_accuracy: 0.9464\n",
      "Epoch 6/10\n",
      "70/70 [==============================] - 1s 19ms/step - loss: 0.0066 - accuracy: 1.0000 - val_loss: 0.1858 - val_accuracy: 0.9429\n",
      "Epoch 7/10\n",
      "70/70 [==============================] - 1s 20ms/step - loss: 0.0044 - accuracy: 1.0000 - val_loss: 0.1835 - val_accuracy: 0.9411\n",
      "Epoch 8/10\n",
      "70/70 [==============================] - 1s 19ms/step - loss: 0.0032 - accuracy: 1.0000 - val_loss: 0.1799 - val_accuracy: 0.9429\n",
      "Epoch 9/10\n",
      "70/70 [==============================] - 1s 19ms/step - loss: 0.0025 - accuracy: 1.0000 - val_loss: 0.1776 - val_accuracy: 0.9482\n",
      "Epoch 10/10\n",
      "70/70 [==============================] - 1s 19ms/step - loss: 0.0019 - accuracy: 1.0000 - val_loss: 0.1760 - val_accuracy: 0.9482\n"
     ]
    }
   ],
   "source": [
    "model = Sequential([\n",
    "    LSTM(128, input_shape=(X_train.shape[1], X_train.shape[2])),\n",
    "    Dense(64, activation='relu'),\n",
    "    Dense(y.shape[1], activation='softmax')\n",
    "])\n",
    "\n",
    "model.compile(optimizer='adam', loss='categorical_crossentropy', metrics=['accuracy'])\n",
    "history = model.fit(X_train, y_train, epochs=10, batch_size=32, validation_data=(X_test, y_test))"
   ]
  },
  {
   "cell_type": "code",
   "execution_count": 6,
   "id": "b373ec6b-f5b2-4333-af44-5466e27cf046",
   "metadata": {},
   "outputs": [
    {
     "name": "stdout",
     "output_type": "stream",
     "text": [
      "18/18 [==============================] - 0s 11ms/step - loss: 0.2049 - accuracy: 0.9446\n",
      "Test Loss: 0.20486600697040558\n",
      "Test Accuracy: 0.9446428418159485\n"
     ]
    }
   ],
   "source": [
    "# Evaluate the model\n",
    "loss, accuracy = model.evaluate(X_test, y_test)\n",
    "print(\"Test Loss:\", loss)\n",
    "print(\"Test Accuracy:\", accuracy)"
   ]
  },
  {
   "cell_type": "code",
   "execution_count": 9,
   "id": "1ad5e3be-c04f-4244-8aa3-d55f9e1eed61",
   "metadata": {},
   "outputs": [
    {
     "data": {
      "image/png": "[encoded data removed]",
      "text/plain": [
       "<Figure size 640x480 with 1 Axes>"
      ]
     },
     "metadata": {},
     "output_type": "display_data"
    }
   ],
   "source": [
    "import matplotlib.pyplot as plt\n",
    "\n",
    "# Visualize training history\n",
    "plt.plot(history.history['accuracy'], label='Training Accuracy')\n",
    "plt.plot(history.history['val_accuracy'], label='Validation Accuracy')\n",
    "plt.xlabel('Epoch')\n",
    "plt.ylabel('Accuracy')\n",
    "plt.legend()\n",
    "plt.show()"
   ]
  },
  {
   "cell_type": "markdown",
   "id": "f06e7ece-bfe1-4b20-bfae-3f4ee99046af",
   "metadata": {},
   "source": [
    "# To evaluate the performance of your speech emotion recognition model and check whether the predictions are correct or not, you can follow these steps:"
   ]
  },
  {
   "cell_type": "code",
   "execution_count": 10,
   "id": "81d192fc-9905-4053-ad72-0c849e9aa5d5",
   "metadata": {},
   "outputs": [
    {
     "name": "stdout",
     "output_type": "stream",
     "text": [
      "18/18 [==============================] - 1s 10ms/step\n"
     ]
    }
   ],
   "source": [
    "# Make predictions\n",
    "predictions = model.predict(X_test)"
   ]
  },
  {
   "cell_type": "markdown",
   "id": "534c9e99-9bb0-49ba-a9f7-01a1506a7192",
   "metadata": {},
   "source": [
    "# Convert Predictions to Emotion Labels"
   ]
  },
  {
   "cell_type": "code",
   "execution_count": 11,
   "id": "f5c5cc45-42b6-4fb1-937e-035e06e5ea7c",
   "metadata": {},
   "outputs": [],
   "source": [
    "predicted_labels = np.argmax(predictions, axis=1)"
   ]
  },
  {
   "cell_type": "markdown",
   "id": "78a27f0f-62fe-46dd-bae5-2582aa620c5c",
   "metadata": {},
   "source": [
    "# Decode Label Encodings"
   ]
  },
  {
   "cell_type": "code",
   "execution_count": 25,
   "id": "d6270d15-601b-4e31-b90e-231260c3e47d",
   "metadata": {},
   "outputs": [],
   "source": [
    "# Reshape the predicted_labels array to a 2D array with the correct number of columns\n",
    "predicted_labels_2d = np.zeros((predicted_labels.size, y.shape[1]))\n",
    "predicted_labels_2d[np.arange(predicted_labels.size), predicted_labels] = 1"
   ]
  },
  {
   "cell_type": "markdown",
   "id": "5c26bce4-083a-4968-a6a5-3ab3c24d7621",
   "metadata": {},
   "source": [
    "# Compare Predictions with True Labels"
   ]
  },
  {
   "cell_type": "code",
   "execution_count": 31,
   "id": "027cd485-5355-4ad8-8279-2a66ae1aeaf2",
   "metadata": {},
   "outputs": [
    {
     "name": "stdout",
     "output_type": "stream",
     "text": [
      "Accuracy: 0.985204081632653\n"
     ]
    }
   ],
   "source": [
    "# Calculate accuracy\n",
    "accuracy = np.mean(predicted_labels_2d == y_test)\n",
    "\n",
    "# Print accuracy\n",
    "print(\"Accuracy:\", accuracy)"
   ]
  },
  {
   "cell_type": "code",
   "execution_count": null,
   "id": "658c7db0-83d3-41c5-af0c-687530b412b8",
   "metadata": {},
   "outputs": [],
   "source": [
    "a"
   ]
  }
 ],
 "metadata": {
  "kernelspec": {
   "display_name": "Python 3 (ipykernel)",
   "language": "python",
   "name": "python3"
  },
  "language_info": {
   "codemirror_mode": {
    "name": "ipython",
    "version": 3
   },
   "file_extension": ".py",
   "mimetype": "text/x-python",
   "name": "python",
   "nbconvert_exporter": "python",
   "pygments_lexer": "ipython3",
   "version": "3.11.5"
  }
 },
 "nbformat": 4,
 "nbformat_minor": 5
}
