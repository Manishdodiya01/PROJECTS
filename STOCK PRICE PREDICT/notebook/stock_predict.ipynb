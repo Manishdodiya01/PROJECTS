{
 "cells": [
  {
   "cell_type": "code",
   "execution_count": 1,
   "metadata": {
    "id": "j8s2mwHILNx1"
   },
   "outputs": [
    {
     "name": "stdout",
     "output_type": "stream",
     "text": [
      "WARNING:tensorflow:From C:\\Users\\dodiy\\anaconda3\\Lib\\site-packages\\keras\\src\\losses.py:2976: The name tf.losses.sparse_softmax_cross_entropy is deprecated. Please use tf.compat.v1.losses.sparse_softmax_cross_entropy instead.\n",
      "\n"
     ]
    }
   ],
   "source": [
    "import tensorflow as tf\n",
    "import keras"
   ]
  },
  {
   "cell_type": "code",
   "execution_count": 2,
   "metadata": {
    "id": "9qwFU50oLv15"
   },
   "outputs": [],
   "source": [
    "file_path = \"https://www.kaggle.com/datasets/parve05/customer-review-dataset\"\n",
    "\n",
    "data_dir = keras.utils.get_file(\"customer_data\" , origin=file_path , untar=True)"
   ]
  },
  {
   "cell_type": "code",
   "execution_count": 3,
   "metadata": {
    "colab": {
     "base_uri": "https://localhost:8080/"
    },
    "id": "fKtA9SE0Mlsg",
    "outputId": "772fe1a9-44cb-4cc9-d445-55e29f5b7def"
   },
   "outputs": [
    {
     "data": {
      "text/plain": [
       "44"
      ]
     },
     "execution_count": 3,
     "metadata": {},
     "output_type": "execute_result"
    }
   ],
   "source": [
    "len(data_dir)"
   ]
  },
  {
   "cell_type": "code",
   "execution_count": 74,
   "metadata": {
    "id": "MpYXJ8vNMyrM"
   },
   "outputs": [],
   "source": [
    "import pandas as pd\n",
    "import matplotlib.pyplot as plt\n",
    "import seaborn as sns\n",
    "from sklearn.model_selection import train_test_split\n",
    "from sklearn.preprocessing import StandardScaler"
   ]
  },
  {
   "cell_type": "code",
   "execution_count": 7,
   "metadata": {
    "colab": {
     "base_uri": "https://localhost:8080/",
     "height": 423
    },
    "id": "qqpQDg_2NV8y",
    "outputId": "cabfbfc2-9571-4cb0-dfa2-a9cc3cd4dd67"
   },
   "outputs": [
    {
     "data": {
      "text/html": [
       "<div>\n",
       "<style scoped>\n",
       "    .dataframe tbody tr th:only-of-type {\n",
       "        vertical-align: middle;\n",
       "    }\n",
       "\n",
       "    .dataframe tbody tr th {\n",
       "        vertical-align: top;\n",
       "    }\n",
       "\n",
       "    .dataframe thead th {\n",
       "        text-align: right;\n",
       "    }\n",
       "</style>\n",
       "<table border=\"1\" class=\"dataframe\">\n",
       "  <thead>\n",
       "    <tr style=\"text-align: right;\">\n",
       "      <th></th>\n",
       "      <th>Date</th>\n",
       "      <th>Open</th>\n",
       "      <th>High</th>\n",
       "      <th>Low</th>\n",
       "      <th>Close</th>\n",
       "      <th>Adj_Close</th>\n",
       "      <th>Volume</th>\n",
       "    </tr>\n",
       "  </thead>\n",
       "  <tbody>\n",
       "    <tr>\n",
       "      <th>0</th>\n",
       "      <td>2000/3/27</td>\n",
       "      <td>3.812500</td>\n",
       "      <td>4.156250</td>\n",
       "      <td>3.812500</td>\n",
       "      <td>4.125000</td>\n",
       "      <td>4.125000</td>\n",
       "      <td>3675600</td>\n",
       "    </tr>\n",
       "    <tr>\n",
       "      <th>1</th>\n",
       "      <td>2000/3/28</td>\n",
       "      <td>4.125000</td>\n",
       "      <td>4.125000</td>\n",
       "      <td>4.000000</td>\n",
       "      <td>4.015625</td>\n",
       "      <td>4.015625</td>\n",
       "      <td>1077600</td>\n",
       "    </tr>\n",
       "    <tr>\n",
       "      <th>2</th>\n",
       "      <td>2000/3/29</td>\n",
       "      <td>4.000000</td>\n",
       "      <td>4.031250</td>\n",
       "      <td>3.953125</td>\n",
       "      <td>4.000000</td>\n",
       "      <td>4.000000</td>\n",
       "      <td>437200</td>\n",
       "    </tr>\n",
       "    <tr>\n",
       "      <th>3</th>\n",
       "      <td>2000/3/30</td>\n",
       "      <td>4.000000</td>\n",
       "      <td>4.000000</td>\n",
       "      <td>3.843750</td>\n",
       "      <td>3.843750</td>\n",
       "      <td>3.843750</td>\n",
       "      <td>1883600</td>\n",
       "    </tr>\n",
       "    <tr>\n",
       "      <th>4</th>\n",
       "      <td>2000/3/31</td>\n",
       "      <td>3.734375</td>\n",
       "      <td>3.734375</td>\n",
       "      <td>3.390625</td>\n",
       "      <td>3.390625</td>\n",
       "      <td>3.390625</td>\n",
       "      <td>7931600</td>\n",
       "    </tr>\n",
       "    <tr>\n",
       "      <th>...</th>\n",
       "      <td>...</td>\n",
       "      <td>...</td>\n",
       "      <td>...</td>\n",
       "      <td>...</td>\n",
       "      <td>...</td>\n",
       "      <td>...</td>\n",
       "      <td>...</td>\n",
       "    </tr>\n",
       "    <tr>\n",
       "      <th>4387</th>\n",
       "      <td>2017/9/1</td>\n",
       "      <td>113.790001</td>\n",
       "      <td>114.099998</td>\n",
       "      <td>112.790001</td>\n",
       "      <td>113.309998</td>\n",
       "      <td>113.309998</td>\n",
       "      <td>950000</td>\n",
       "    </tr>\n",
       "    <tr>\n",
       "      <th>4388</th>\n",
       "      <td>2017/9/5</td>\n",
       "      <td>112.519997</td>\n",
       "      <td>113.529999</td>\n",
       "      <td>111.160004</td>\n",
       "      <td>111.870003</td>\n",
       "      <td>111.870003</td>\n",
       "      <td>1805200</td>\n",
       "    </tr>\n",
       "    <tr>\n",
       "      <th>4389</th>\n",
       "      <td>2017/9/6</td>\n",
       "      <td>112.029999</td>\n",
       "      <td>112.489998</td>\n",
       "      <td>110.250000</td>\n",
       "      <td>112.230003</td>\n",
       "      <td>112.230003</td>\n",
       "      <td>2136700</td>\n",
       "    </tr>\n",
       "    <tr>\n",
       "      <th>4390</th>\n",
       "      <td>2017/9/7</td>\n",
       "      <td>112.459999</td>\n",
       "      <td>112.900002</td>\n",
       "      <td>112.000000</td>\n",
       "      <td>112.339996</td>\n",
       "      <td>112.339996</td>\n",
       "      <td>1251600</td>\n",
       "    </tr>\n",
       "    <tr>\n",
       "      <th>4391</th>\n",
       "      <td>2017/9/8</td>\n",
       "      <td>112.300003</td>\n",
       "      <td>114.790001</td>\n",
       "      <td>112.010002</td>\n",
       "      <td>113.190002</td>\n",
       "      <td>113.190002</td>\n",
       "      <td>1611700</td>\n",
       "    </tr>\n",
       "  </tbody>\n",
       "</table>\n",
       "<p>4392 rows × 7 columns</p>\n",
       "</div>"
      ],
      "text/plain": [
       "           Date        Open        High         Low       Close   Adj_Close  \\\n",
       "0     2000/3/27    3.812500    4.156250    3.812500    4.125000    4.125000   \n",
       "1     2000/3/28    4.125000    4.125000    4.000000    4.015625    4.015625   \n",
       "2     2000/3/29    4.000000    4.031250    3.953125    4.000000    4.000000   \n",
       "3     2000/3/30    4.000000    4.000000    3.843750    3.843750    3.843750   \n",
       "4     2000/3/31    3.734375    3.734375    3.390625    3.390625    3.390625   \n",
       "...         ...         ...         ...         ...         ...         ...   \n",
       "4387   2017/9/1  113.790001  114.099998  112.790001  113.309998  113.309998   \n",
       "4388   2017/9/5  112.519997  113.529999  111.160004  111.870003  111.870003   \n",
       "4389   2017/9/6  112.029999  112.489998  110.250000  112.230003  112.230003   \n",
       "4390   2017/9/7  112.459999  112.900002  112.000000  112.339996  112.339996   \n",
       "4391   2017/9/8  112.300003  114.790001  112.010002  113.190002  113.190002   \n",
       "\n",
       "       Volume  \n",
       "0     3675600  \n",
       "1     1077600  \n",
       "2      437200  \n",
       "3     1883600  \n",
       "4     7931600  \n",
       "...       ...  \n",
       "4387   950000  \n",
       "4388  1805200  \n",
       "4389  2136700  \n",
       "4390  1251600  \n",
       "4391  1611700  \n",
       "\n",
       "[4392 rows x 7 columns]"
      ]
     },
     "execution_count": 7,
     "metadata": {},
     "output_type": "execute_result"
    }
   ],
   "source": [
    "pd.read_csv('EW-MAX.csv')"
   ]
  },
  {
   "cell_type": "code",
   "execution_count": 8,
   "metadata": {
    "id": "jHh-RePJNZpV"
   },
   "outputs": [],
   "source": [
    "df = pd.read_csv('EW-MAX.csv')"
   ]
  },
  {
   "cell_type": "code",
   "execution_count": 9,
   "metadata": {
    "colab": {
     "base_uri": "https://localhost:8080/"
    },
    "id": "CxhqEvICPBNb",
    "outputId": "054c3173-8727-491d-ee5d-0ea239f8d7e4"
   },
   "outputs": [
    {
     "name": "stdout",
     "output_type": "stream",
     "text": [
      "<class 'pandas.core.frame.DataFrame'>\n",
      "RangeIndex: 4392 entries, 0 to 4391\n",
      "Data columns (total 7 columns):\n",
      " #   Column     Non-Null Count  Dtype  \n",
      "---  ------     --------------  -----  \n",
      " 0   Date       4392 non-null   object \n",
      " 1   Open       4392 non-null   float64\n",
      " 2   High       4392 non-null   float64\n",
      " 3   Low        4392 non-null   float64\n",
      " 4   Close      4392 non-null   float64\n",
      " 5   Adj_Close  4392 non-null   float64\n",
      " 6   Volume     4392 non-null   int64  \n",
      "dtypes: float64(5), int64(1), object(1)\n",
      "memory usage: 240.3+ KB\n"
     ]
    }
   ],
   "source": [
    "df.info()"
   ]
  },
  {
   "cell_type": "code",
   "execution_count": 10,
   "metadata": {
    "colab": {
     "base_uri": "https://localhost:8080/"
    },
    "id": "Vq1peRP0POEi",
    "outputId": "137b4fd6-8066-4403-fed8-99b3675df226"
   },
   "outputs": [
    {
     "data": {
      "text/plain": [
       "Date         0\n",
       "Open         0\n",
       "High         0\n",
       "Low          0\n",
       "Close        0\n",
       "Adj_Close    0\n",
       "Volume       0\n",
       "dtype: int64"
      ]
     },
     "execution_count": 10,
     "metadata": {},
     "output_type": "execute_result"
    }
   ],
   "source": [
    "df.isnull().sum()"
   ]
  },
  {
   "cell_type": "code",
   "execution_count": 11,
   "metadata": {
    "colab": {
     "base_uri": "https://localhost:8080/"
    },
    "id": "fM4zCnLuPUlE",
    "outputId": "777a0a49-a6eb-4013-c41b-564998a1a795"
   },
   "outputs": [
    {
     "data": {
      "text/plain": [
       "0"
      ]
     },
     "execution_count": 11,
     "metadata": {},
     "output_type": "execute_result"
    }
   ],
   "source": [
    "df.duplicated().sum()"
   ]
  },
  {
   "cell_type": "code",
   "execution_count": 12,
   "metadata": {
    "id": "JpS1t2ClPY5G"
   },
   "outputs": [],
   "source": [
    "a = df[['Open' , 'High' , 'Low']]\n"
   ]
  },
  {
   "cell_type": "code",
   "execution_count": 13,
   "metadata": {
    "colab": {
     "base_uri": "https://localhost:8080/",
     "height": 363
    },
    "id": "DuwPEY-PQz42",
    "outputId": "da52eb8a-1f1f-4aac-dc44-c5a1327a661e"
   },
   "outputs": [
    {
     "data": {
      "text/html": [
       "<div>\n",
       "<style scoped>\n",
       "    .dataframe tbody tr th:only-of-type {\n",
       "        vertical-align: middle;\n",
       "    }\n",
       "\n",
       "    .dataframe tbody tr th {\n",
       "        vertical-align: top;\n",
       "    }\n",
       "\n",
       "    .dataframe thead th {\n",
       "        text-align: right;\n",
       "    }\n",
       "</style>\n",
       "<table border=\"1\" class=\"dataframe\">\n",
       "  <thead>\n",
       "    <tr style=\"text-align: right;\">\n",
       "      <th></th>\n",
       "      <th>Date</th>\n",
       "      <th>Open</th>\n",
       "      <th>High</th>\n",
       "      <th>Low</th>\n",
       "      <th>Close</th>\n",
       "      <th>Adj_Close</th>\n",
       "      <th>Volume</th>\n",
       "    </tr>\n",
       "  </thead>\n",
       "  <tbody>\n",
       "    <tr>\n",
       "      <th>1425</th>\n",
       "      <td>2005/11/25</td>\n",
       "      <td>10.275000</td>\n",
       "      <td>10.352500</td>\n",
       "      <td>10.260000</td>\n",
       "      <td>10.325000</td>\n",
       "      <td>10.325000</td>\n",
       "      <td>190400</td>\n",
       "    </tr>\n",
       "    <tr>\n",
       "      <th>104</th>\n",
       "      <td>2000/8/23</td>\n",
       "      <td>5.718750</td>\n",
       "      <td>5.734375</td>\n",
       "      <td>5.640625</td>\n",
       "      <td>5.718750</td>\n",
       "      <td>5.718750</td>\n",
       "      <td>220000</td>\n",
       "    </tr>\n",
       "    <tr>\n",
       "      <th>93</th>\n",
       "      <td>2000/8/8</td>\n",
       "      <td>5.671875</td>\n",
       "      <td>5.687500</td>\n",
       "      <td>5.500000</td>\n",
       "      <td>5.625000</td>\n",
       "      <td>5.625000</td>\n",
       "      <td>224000</td>\n",
       "    </tr>\n",
       "    <tr>\n",
       "      <th>923</th>\n",
       "      <td>2003/11/28</td>\n",
       "      <td>7.500000</td>\n",
       "      <td>7.582500</td>\n",
       "      <td>7.477500</td>\n",
       "      <td>7.530000</td>\n",
       "      <td>7.530000</td>\n",
       "      <td>224800</td>\n",
       "    </tr>\n",
       "    <tr>\n",
       "      <th>1926</th>\n",
       "      <td>2007/11/23</td>\n",
       "      <td>12.282500</td>\n",
       "      <td>12.462500</td>\n",
       "      <td>12.257500</td>\n",
       "      <td>12.422500</td>\n",
       "      <td>12.422500</td>\n",
       "      <td>225600</td>\n",
       "    </tr>\n",
       "    <tr>\n",
       "      <th>320</th>\n",
       "      <td>2001/7/3</td>\n",
       "      <td>6.587500</td>\n",
       "      <td>6.637500</td>\n",
       "      <td>6.562500</td>\n",
       "      <td>6.562500</td>\n",
       "      <td>6.562500</td>\n",
       "      <td>226000</td>\n",
       "    </tr>\n",
       "    <tr>\n",
       "      <th>322</th>\n",
       "      <td>2001/7/6</td>\n",
       "      <td>6.535000</td>\n",
       "      <td>6.535000</td>\n",
       "      <td>6.370000</td>\n",
       "      <td>6.370000</td>\n",
       "      <td>6.370000</td>\n",
       "      <td>246400</td>\n",
       "    </tr>\n",
       "    <tr>\n",
       "      <th>150</th>\n",
       "      <td>2000/10/27</td>\n",
       "      <td>5.828125</td>\n",
       "      <td>5.875000</td>\n",
       "      <td>5.750000</td>\n",
       "      <td>5.750000</td>\n",
       "      <td>5.750000</td>\n",
       "      <td>262000</td>\n",
       "    </tr>\n",
       "    <tr>\n",
       "      <th>942</th>\n",
       "      <td>2003/12/26</td>\n",
       "      <td>7.450000</td>\n",
       "      <td>7.500000</td>\n",
       "      <td>7.425000</td>\n",
       "      <td>7.472500</td>\n",
       "      <td>7.472500</td>\n",
       "      <td>263600</td>\n",
       "    </tr>\n",
       "    <tr>\n",
       "      <th>116</th>\n",
       "      <td>2000/9/11</td>\n",
       "      <td>5.593750</td>\n",
       "      <td>5.593750</td>\n",
       "      <td>5.531250</td>\n",
       "      <td>5.578125</td>\n",
       "      <td>5.578125</td>\n",
       "      <td>264400</td>\n",
       "    </tr>\n",
       "  </tbody>\n",
       "</table>\n",
       "</div>"
      ],
      "text/plain": [
       "            Date       Open       High        Low      Close  Adj_Close  \\\n",
       "1425  2005/11/25  10.275000  10.352500  10.260000  10.325000  10.325000   \n",
       "104    2000/8/23   5.718750   5.734375   5.640625   5.718750   5.718750   \n",
       "93      2000/8/8   5.671875   5.687500   5.500000   5.625000   5.625000   \n",
       "923   2003/11/28   7.500000   7.582500   7.477500   7.530000   7.530000   \n",
       "1926  2007/11/23  12.282500  12.462500  12.257500  12.422500  12.422500   \n",
       "320     2001/7/3   6.587500   6.637500   6.562500   6.562500   6.562500   \n",
       "322     2001/7/6   6.535000   6.535000   6.370000   6.370000   6.370000   \n",
       "150   2000/10/27   5.828125   5.875000   5.750000   5.750000   5.750000   \n",
       "942   2003/12/26   7.450000   7.500000   7.425000   7.472500   7.472500   \n",
       "116    2000/9/11   5.593750   5.593750   5.531250   5.578125   5.578125   \n",
       "\n",
       "      Volume  \n",
       "1425  190400  \n",
       "104   220000  \n",
       "93    224000  \n",
       "923   224800  \n",
       "1926  225600  \n",
       "320   226000  \n",
       "322   246400  \n",
       "150   262000  \n",
       "942   263600  \n",
       "116   264400  "
      ]
     },
     "execution_count": 13,
     "metadata": {},
     "output_type": "execute_result"
    }
   ],
   "source": [
    "sorted_df = df.sort_values('Volume' , ascending=True).head(10)\n",
    "sorted_df"
   ]
  },
  {
   "cell_type": "code",
   "execution_count": 14,
   "metadata": {
    "colab": {
     "base_uri": "https://localhost:8080/",
     "height": 363
    },
    "id": "RAlMWssuSpWI",
    "outputId": "0d48a00e-79ac-425b-8773-8978352e55c4"
   },
   "outputs": [
    {
     "data": {
      "text/html": [
       "<div>\n",
       "<style scoped>\n",
       "    .dataframe tbody tr th:only-of-type {\n",
       "        vertical-align: middle;\n",
       "    }\n",
       "\n",
       "    .dataframe tbody tr th {\n",
       "        vertical-align: top;\n",
       "    }\n",
       "\n",
       "    .dataframe thead th {\n",
       "        text-align: right;\n",
       "    }\n",
       "</style>\n",
       "<table border=\"1\" class=\"dataframe\">\n",
       "  <thead>\n",
       "    <tr style=\"text-align: right;\">\n",
       "      <th></th>\n",
       "      <th>Date</th>\n",
       "      <th>Open</th>\n",
       "      <th>High</th>\n",
       "      <th>Low</th>\n",
       "      <th>Close</th>\n",
       "      <th>Adj_Close</th>\n",
       "      <th>Volume</th>\n",
       "    </tr>\n",
       "  </thead>\n",
       "  <tbody>\n",
       "    <tr>\n",
       "      <th>153</th>\n",
       "      <td>2000/11/1</td>\n",
       "      <td>3.375000</td>\n",
       "      <td>3.390625</td>\n",
       "      <td>3.000000</td>\n",
       "      <td>3.250000</td>\n",
       "      <td>3.250000</td>\n",
       "      <td>19073200</td>\n",
       "    </tr>\n",
       "    <tr>\n",
       "      <th>154</th>\n",
       "      <td>2000/11/2</td>\n",
       "      <td>3.296875</td>\n",
       "      <td>3.562500</td>\n",
       "      <td>3.265625</td>\n",
       "      <td>3.546875</td>\n",
       "      <td>3.546875</td>\n",
       "      <td>3819600</td>\n",
       "    </tr>\n",
       "    <tr>\n",
       "      <th>7</th>\n",
       "      <td>2000/4/5</td>\n",
       "      <td>3.468750</td>\n",
       "      <td>3.562500</td>\n",
       "      <td>3.453125</td>\n",
       "      <td>3.484375</td>\n",
       "      <td>3.484375</td>\n",
       "      <td>6349600</td>\n",
       "    </tr>\n",
       "    <tr>\n",
       "      <th>166</th>\n",
       "      <td>2000/11/20</td>\n",
       "      <td>3.578125</td>\n",
       "      <td>3.578125</td>\n",
       "      <td>3.390625</td>\n",
       "      <td>3.437500</td>\n",
       "      <td>3.437500</td>\n",
       "      <td>530800</td>\n",
       "    </tr>\n",
       "    <tr>\n",
       "      <th>6</th>\n",
       "      <td>2000/4/4</td>\n",
       "      <td>3.531250</td>\n",
       "      <td>3.578125</td>\n",
       "      <td>3.093750</td>\n",
       "      <td>3.500000</td>\n",
       "      <td>3.500000</td>\n",
       "      <td>13136800</td>\n",
       "    </tr>\n",
       "    <tr>\n",
       "      <th>8</th>\n",
       "      <td>2000/4/6</td>\n",
       "      <td>3.500000</td>\n",
       "      <td>3.593750</td>\n",
       "      <td>3.468750</td>\n",
       "      <td>3.578125</td>\n",
       "      <td>3.578125</td>\n",
       "      <td>7181200</td>\n",
       "    </tr>\n",
       "    <tr>\n",
       "      <th>165</th>\n",
       "      <td>2000/11/17</td>\n",
       "      <td>3.609375</td>\n",
       "      <td>3.609375</td>\n",
       "      <td>3.390625</td>\n",
       "      <td>3.546875</td>\n",
       "      <td>3.546875</td>\n",
       "      <td>1190000</td>\n",
       "    </tr>\n",
       "    <tr>\n",
       "      <th>15</th>\n",
       "      <td>2000/4/17</td>\n",
       "      <td>3.578125</td>\n",
       "      <td>3.609375</td>\n",
       "      <td>3.515625</td>\n",
       "      <td>3.562500</td>\n",
       "      <td>3.562500</td>\n",
       "      <td>2992000</td>\n",
       "    </tr>\n",
       "    <tr>\n",
       "      <th>16</th>\n",
       "      <td>2000/4/18</td>\n",
       "      <td>3.609375</td>\n",
       "      <td>3.625000</td>\n",
       "      <td>3.484375</td>\n",
       "      <td>3.515625</td>\n",
       "      <td>3.515625</td>\n",
       "      <td>2896000</td>\n",
       "    </tr>\n",
       "    <tr>\n",
       "      <th>14</th>\n",
       "      <td>2000/4/14</td>\n",
       "      <td>3.609375</td>\n",
       "      <td>3.625000</td>\n",
       "      <td>3.531250</td>\n",
       "      <td>3.609375</td>\n",
       "      <td>3.609375</td>\n",
       "      <td>2626000</td>\n",
       "    </tr>\n",
       "  </tbody>\n",
       "</table>\n",
       "</div>"
      ],
      "text/plain": [
       "           Date      Open      High       Low     Close  Adj_Close    Volume\n",
       "153   2000/11/1  3.375000  3.390625  3.000000  3.250000   3.250000  19073200\n",
       "154   2000/11/2  3.296875  3.562500  3.265625  3.546875   3.546875   3819600\n",
       "7      2000/4/5  3.468750  3.562500  3.453125  3.484375   3.484375   6349600\n",
       "166  2000/11/20  3.578125  3.578125  3.390625  3.437500   3.437500    530800\n",
       "6      2000/4/4  3.531250  3.578125  3.093750  3.500000   3.500000  13136800\n",
       "8      2000/4/6  3.500000  3.593750  3.468750  3.578125   3.578125   7181200\n",
       "165  2000/11/17  3.609375  3.609375  3.390625  3.546875   3.546875   1190000\n",
       "15    2000/4/17  3.578125  3.609375  3.515625  3.562500   3.562500   2992000\n",
       "16    2000/4/18  3.609375  3.625000  3.484375  3.515625   3.515625   2896000\n",
       "14    2000/4/14  3.609375  3.625000  3.531250  3.609375   3.609375   2626000"
      ]
     },
     "execution_count": 14,
     "metadata": {},
     "output_type": "execute_result"
    }
   ],
   "source": [
    "sorted_df = df.sort_values('High' , ascending=True).head(10)\n",
    "sorted_df"
   ]
  },
  {
   "cell_type": "code",
   "execution_count": 15,
   "metadata": {
    "colab": {
     "base_uri": "https://localhost:8080/",
     "height": 237
    },
    "id": "pkA_eM-nTEjt",
    "outputId": "652d8b92-83d3-40de-90a6-0a5ee088d7a0"
   },
   "outputs": [
    {
     "data": {
      "text/html": [
       "<div>\n",
       "<style scoped>\n",
       "    .dataframe tbody tr th:only-of-type {\n",
       "        vertical-align: middle;\n",
       "    }\n",
       "\n",
       "    .dataframe tbody tr th {\n",
       "        vertical-align: top;\n",
       "    }\n",
       "\n",
       "    .dataframe thead th {\n",
       "        text-align: right;\n",
       "    }\n",
       "</style>\n",
       "<table border=\"1\" class=\"dataframe\">\n",
       "  <thead>\n",
       "    <tr style=\"text-align: right;\">\n",
       "      <th></th>\n",
       "      <th>count</th>\n",
       "      <th>mean</th>\n",
       "      <th>std</th>\n",
       "      <th>min</th>\n",
       "      <th>25%</th>\n",
       "      <th>50%</th>\n",
       "      <th>75%</th>\n",
       "      <th>max</th>\n",
       "    </tr>\n",
       "  </thead>\n",
       "  <tbody>\n",
       "    <tr>\n",
       "      <th>Open</th>\n",
       "      <td>4392.0</td>\n",
       "      <td>3.056254e+01</td>\n",
       "      <td>2.991476e+01</td>\n",
       "      <td>3.296875</td>\n",
       "      <td>8.718125e+00</td>\n",
       "      <td>1.476625e+01</td>\n",
       "      <td>4.254625e+01</td>\n",
       "      <td>1.210800e+02</td>\n",
       "    </tr>\n",
       "    <tr>\n",
       "      <th>High</th>\n",
       "      <td>4392.0</td>\n",
       "      <td>3.089362e+01</td>\n",
       "      <td>3.021097e+01</td>\n",
       "      <td>3.390625</td>\n",
       "      <td>8.803125e+00</td>\n",
       "      <td>1.498125e+01</td>\n",
       "      <td>4.305125e+01</td>\n",
       "      <td>1.217500e+02</td>\n",
       "    </tr>\n",
       "    <tr>\n",
       "      <th>Low</th>\n",
       "      <td>4392.0</td>\n",
       "      <td>3.023883e+01</td>\n",
       "      <td>2.961576e+01</td>\n",
       "      <td>3.000000</td>\n",
       "      <td>8.625000e+00</td>\n",
       "      <td>1.466250e+01</td>\n",
       "      <td>4.208625e+01</td>\n",
       "      <td>1.201700e+02</td>\n",
       "    </tr>\n",
       "    <tr>\n",
       "      <th>Close</th>\n",
       "      <td>4392.0</td>\n",
       "      <td>3.057258e+01</td>\n",
       "      <td>2.990578e+01</td>\n",
       "      <td>3.250000</td>\n",
       "      <td>8.712500e+00</td>\n",
       "      <td>1.476750e+01</td>\n",
       "      <td>4.254000e+01</td>\n",
       "      <td>1.213600e+02</td>\n",
       "    </tr>\n",
       "    <tr>\n",
       "      <th>Adj_Close</th>\n",
       "      <td>4392.0</td>\n",
       "      <td>3.057258e+01</td>\n",
       "      <td>2.990578e+01</td>\n",
       "      <td>3.250000</td>\n",
       "      <td>8.712500e+00</td>\n",
       "      <td>1.476750e+01</td>\n",
       "      <td>4.254000e+01</td>\n",
       "      <td>1.213600e+02</td>\n",
       "    </tr>\n",
       "    <tr>\n",
       "      <th>Volume</th>\n",
       "      <td>4392.0</td>\n",
       "      <td>1.884027e+06</td>\n",
       "      <td>1.621609e+06</td>\n",
       "      <td>190400.000000</td>\n",
       "      <td>1.088800e+06</td>\n",
       "      <td>1.539300e+06</td>\n",
       "      <td>2.188900e+06</td>\n",
       "      <td>4.641260e+07</td>\n",
       "    </tr>\n",
       "  </tbody>\n",
       "</table>\n",
       "</div>"
      ],
      "text/plain": [
       "            count          mean           std            min           25%  \\\n",
       "Open       4392.0  3.056254e+01  2.991476e+01       3.296875  8.718125e+00   \n",
       "High       4392.0  3.089362e+01  3.021097e+01       3.390625  8.803125e+00   \n",
       "Low        4392.0  3.023883e+01  2.961576e+01       3.000000  8.625000e+00   \n",
       "Close      4392.0  3.057258e+01  2.990578e+01       3.250000  8.712500e+00   \n",
       "Adj_Close  4392.0  3.057258e+01  2.990578e+01       3.250000  8.712500e+00   \n",
       "Volume     4392.0  1.884027e+06  1.621609e+06  190400.000000  1.088800e+06   \n",
       "\n",
       "                    50%           75%           max  \n",
       "Open       1.476625e+01  4.254625e+01  1.210800e+02  \n",
       "High       1.498125e+01  4.305125e+01  1.217500e+02  \n",
       "Low        1.466250e+01  4.208625e+01  1.201700e+02  \n",
       "Close      1.476750e+01  4.254000e+01  1.213600e+02  \n",
       "Adj_Close  1.476750e+01  4.254000e+01  1.213600e+02  \n",
       "Volume     1.539300e+06  2.188900e+06  4.641260e+07  "
      ]
     },
     "execution_count": 15,
     "metadata": {},
     "output_type": "execute_result"
    }
   ],
   "source": [
    "df.describe().transpose()"
   ]
  },
  {
   "cell_type": "code",
   "execution_count": 16,
   "metadata": {
    "colab": {
     "base_uri": "https://localhost:8080/",
     "height": 423
    },
    "id": "r1ljSn9gT7oQ",
    "outputId": "3b9a3952-b48e-4ed5-bfa3-ddd33e6c3465"
   },
   "outputs": [
    {
     "data": {
      "text/html": [
       "<div>\n",
       "<style scoped>\n",
       "    .dataframe tbody tr th:only-of-type {\n",
       "        vertical-align: middle;\n",
       "    }\n",
       "\n",
       "    .dataframe tbody tr th {\n",
       "        vertical-align: top;\n",
       "    }\n",
       "\n",
       "    .dataframe thead th {\n",
       "        text-align: right;\n",
       "    }\n",
       "</style>\n",
       "<table border=\"1\" class=\"dataframe\">\n",
       "  <thead>\n",
       "    <tr style=\"text-align: right;\">\n",
       "      <th></th>\n",
       "      <th>Date</th>\n",
       "      <th>Open</th>\n",
       "      <th>High</th>\n",
       "      <th>Low</th>\n",
       "      <th>Close</th>\n",
       "      <th>Adj_Close</th>\n",
       "      <th>Volume</th>\n",
       "    </tr>\n",
       "  </thead>\n",
       "  <tbody>\n",
       "    <tr>\n",
       "      <th>2770</th>\n",
       "      <td>2011/3/31</td>\n",
       "      <td>44.005001</td>\n",
       "      <td>44.095001</td>\n",
       "      <td>43.360001</td>\n",
       "      <td>43.500000</td>\n",
       "      <td>43.500000</td>\n",
       "      <td>46412600</td>\n",
       "    </tr>\n",
       "    <tr>\n",
       "      <th>2103</th>\n",
       "      <td>2008/8/7</td>\n",
       "      <td>14.082500</td>\n",
       "      <td>14.547500</td>\n",
       "      <td>13.437500</td>\n",
       "      <td>14.460000</td>\n",
       "      <td>14.460000</td>\n",
       "      <td>23767600</td>\n",
       "    </tr>\n",
       "    <tr>\n",
       "      <th>3288</th>\n",
       "      <td>2013/4/24</td>\n",
       "      <td>33.275002</td>\n",
       "      <td>33.299999</td>\n",
       "      <td>31.750000</td>\n",
       "      <td>32.299999</td>\n",
       "      <td>32.299999</td>\n",
       "      <td>22986800</td>\n",
       "    </tr>\n",
       "    <tr>\n",
       "      <th>153</th>\n",
       "      <td>2000/11/1</td>\n",
       "      <td>3.375000</td>\n",
       "      <td>3.390625</td>\n",
       "      <td>3.000000</td>\n",
       "      <td>3.250000</td>\n",
       "      <td>3.250000</td>\n",
       "      <td>19073200</td>\n",
       "    </tr>\n",
       "    <tr>\n",
       "      <th>152</th>\n",
       "      <td>2000/10/31</td>\n",
       "      <td>3.812500</td>\n",
       "      <td>4.000000</td>\n",
       "      <td>3.343750</td>\n",
       "      <td>3.359375</td>\n",
       "      <td>3.359375</td>\n",
       "      <td>17944400</td>\n",
       "    </tr>\n",
       "    <tr>\n",
       "      <th>...</th>\n",
       "      <td>...</td>\n",
       "      <td>...</td>\n",
       "      <td>...</td>\n",
       "      <td>...</td>\n",
       "      <td>...</td>\n",
       "      <td>...</td>\n",
       "      <td>...</td>\n",
       "    </tr>\n",
       "    <tr>\n",
       "      <th>3358</th>\n",
       "      <td>2013/8/2</td>\n",
       "      <td>36.575001</td>\n",
       "      <td>36.715000</td>\n",
       "      <td>36.189999</td>\n",
       "      <td>36.305000</td>\n",
       "      <td>36.305000</td>\n",
       "      <td>1502600</td>\n",
       "    </tr>\n",
       "    <tr>\n",
       "      <th>2677</th>\n",
       "      <td>2010/11/16</td>\n",
       "      <td>32.669998</td>\n",
       "      <td>32.755001</td>\n",
       "      <td>31.889999</td>\n",
       "      <td>32.169998</td>\n",
       "      <td>32.169998</td>\n",
       "      <td>1501200</td>\n",
       "    </tr>\n",
       "    <tr>\n",
       "      <th>2326</th>\n",
       "      <td>2009/6/26</td>\n",
       "      <td>16.860001</td>\n",
       "      <td>16.900000</td>\n",
       "      <td>16.605000</td>\n",
       "      <td>16.812500</td>\n",
       "      <td>16.812500</td>\n",
       "      <td>1501200</td>\n",
       "    </tr>\n",
       "    <tr>\n",
       "      <th>3524</th>\n",
       "      <td>2014/4/1</td>\n",
       "      <td>37.384998</td>\n",
       "      <td>37.494999</td>\n",
       "      <td>36.724998</td>\n",
       "      <td>37.110001</td>\n",
       "      <td>37.110001</td>\n",
       "      <td>1500400</td>\n",
       "    </tr>\n",
       "    <tr>\n",
       "      <th>2787</th>\n",
       "      <td>2011/4/26</td>\n",
       "      <td>41.910000</td>\n",
       "      <td>42.334999</td>\n",
       "      <td>41.634998</td>\n",
       "      <td>41.665001</td>\n",
       "      <td>41.665001</td>\n",
       "      <td>1500200</td>\n",
       "    </tr>\n",
       "  </tbody>\n",
       "</table>\n",
       "<p>2279 rows × 7 columns</p>\n",
       "</div>"
      ],
      "text/plain": [
       "            Date       Open       High        Low      Close  Adj_Close  \\\n",
       "2770   2011/3/31  44.005001  44.095001  43.360001  43.500000  43.500000   \n",
       "2103    2008/8/7  14.082500  14.547500  13.437500  14.460000  14.460000   \n",
       "3288   2013/4/24  33.275002  33.299999  31.750000  32.299999  32.299999   \n",
       "153    2000/11/1   3.375000   3.390625   3.000000   3.250000   3.250000   \n",
       "152   2000/10/31   3.812500   4.000000   3.343750   3.359375   3.359375   \n",
       "...          ...        ...        ...        ...        ...        ...   \n",
       "3358    2013/8/2  36.575001  36.715000  36.189999  36.305000  36.305000   \n",
       "2677  2010/11/16  32.669998  32.755001  31.889999  32.169998  32.169998   \n",
       "2326   2009/6/26  16.860001  16.900000  16.605000  16.812500  16.812500   \n",
       "3524    2014/4/1  37.384998  37.494999  36.724998  37.110001  37.110001   \n",
       "2787   2011/4/26  41.910000  42.334999  41.634998  41.665001  41.665001   \n",
       "\n",
       "        Volume  \n",
       "2770  46412600  \n",
       "2103  23767600  \n",
       "3288  22986800  \n",
       "153   19073200  \n",
       "152   17944400  \n",
       "...        ...  \n",
       "3358   1502600  \n",
       "2677   1501200  \n",
       "2326   1501200  \n",
       "3524   1500400  \n",
       "2787   1500200  \n",
       "\n",
       "[2279 rows x 7 columns]"
      ]
     },
     "execution_count": 16,
     "metadata": {},
     "output_type": "execute_result"
    }
   ],
   "source": [
    "df.query(\"Volume > 1500000\").sort_values(\"Volume\" , ascending=False)"
   ]
  },
  {
   "cell_type": "code",
   "execution_count": 17,
   "metadata": {
    "colab": {
     "base_uri": "https://localhost:8080/",
     "height": 523
    },
    "id": "lZfy2T7DVpzT",
    "outputId": "e05c3bc3-0b27-4460-97ed-46bdfecbd4da"
   },
   "outputs": [
    {
     "name": "stderr",
     "output_type": "stream",
     "text": [
      "C:\\Users\\dodiy\\anaconda3\\Lib\\site-packages\\seaborn\\_oldcore.py:1119: FutureWarning: use_inf_as_na option is deprecated and will be removed in a future version. Convert inf values to NaN before operating instead.\n",
      "  with pd.option_context('mode.use_inf_as_na', True):\n"
     ]
    },
    {
     "data": {
      "text/plain": [
       "<seaborn.axisgrid.FacetGrid at 0x25027ac5a50>"
      ]
     },
     "execution_count": 17,
     "metadata": {},
     "output_type": "execute_result"
    },
    {
     "data": {
      "image/png": "[encoded data removed]",
      "text/plain": [
       "<Figure size 500x500 with 1 Axes>"
      ]
     },
     "metadata": {},
     "output_type": "display_data"
    }
   ],
   "source": [
    "sns.displot(df['High'] )"
   ]
  },
  {
   "cell_type": "code",
   "execution_count": 18,
   "metadata": {
    "colab": {
     "base_uri": "https://localhost:8080/",
     "height": 466
    },
    "id": "dpOvBeuCVuU4",
    "outputId": "c5e383ee-999a-4bd2-f2ef-0c29d21e7381"
   },
   "outputs": [
    {
     "name": "stderr",
     "output_type": "stream",
     "text": [
      "C:\\Users\\dodiy\\anaconda3\\Lib\\site-packages\\seaborn\\_oldcore.py:1119: FutureWarning: use_inf_as_na option is deprecated and will be removed in a future version. Convert inf values to NaN before operating instead.\n",
      "  with pd.option_context('mode.use_inf_as_na', True):\n"
     ]
    },
    {
     "data": {
      "text/plain": [
       "<Axes: xlabel='High', ylabel='Count'>"
      ]
     },
     "execution_count": 18,
     "metadata": {},
     "output_type": "execute_result"
    },
    {
     "data": {
      "image/png": "[encoded data removed]",
      "text/plain": [
       "<Figure size 640x480 with 1 Axes>"
      ]
     },
     "metadata": {},
     "output_type": "display_data"
    }
   ],
   "source": [
    "sns.histplot(df.High)"
   ]
  },
  {
   "cell_type": "code",
   "execution_count": 56,
   "metadata": {
    "id": "WMC5nOGlV6F5"
   },
   "outputs": [],
   "source": [
    "x = df.drop(['Close','Date','Adj_Close'] , axis=1)\n",
    "y = df['Close']"
   ]
  },
  {
   "cell_type": "code",
   "execution_count": 57,
   "metadata": {
    "colab": {
     "base_uri": "https://localhost:8080/"
    },
    "id": "cE5vLVwXX_CH",
    "outputId": "60addaaa-c85b-4faa-b05a-66d2e9059cf4"
   },
   "outputs": [
    {
     "data": {
      "text/plain": [
       "(4392, 4)"
      ]
     },
     "execution_count": 57,
     "metadata": {},
     "output_type": "execute_result"
    }
   ],
   "source": [
    "x.shape"
   ]
  },
  {
   "cell_type": "code",
   "execution_count": 58,
   "metadata": {
    "colab": {
     "base_uri": "https://localhost:8080/"
    },
    "id": "OdjxgiS_YBle",
    "outputId": "fc9f27c4-5a64-4ad1-b423-64d8004d1eb7"
   },
   "outputs": [
    {
     "data": {
      "text/plain": [
       "(4392,)"
      ]
     },
     "execution_count": 58,
     "metadata": {},
     "output_type": "execute_result"
    }
   ],
   "source": [
    "y.shape"
   ]
  },
  {
   "cell_type": "code",
   "execution_count": 59,
   "metadata": {
    "id": "tbpm6XsoYC4W"
   },
   "outputs": [],
   "source": [
    "X_train, X_test, y_train, y_test = train_test_split(x,y,test_size=0.33,random_state=42)"
   ]
  },
  {
   "cell_type": "code",
   "execution_count": 75,
   "metadata": {},
   "outputs": [],
   "source": [
    "scaler = StandardScaler()\n",
    "X_train = scaler.fit_transform(X_train)\n",
    "X_test = scaler.transform(X_test)"
   ]
  },
  {
   "cell_type": "code",
   "execution_count": 76,
   "metadata": {
    "id": "uGwSzEKhYUTT"
   },
   "outputs": [],
   "source": [
    "from sklearn.linear_model import LinearRegression\n",
    "from sklearn.tree import DecisionTreeRegressor\n",
    "from sklearn.metrics import mean_squared_error , mean_absolute_error , r2_score\n",
    "import numpy as np\n",
    "from sklearn.linear_model import LinearRegression,Lasso,Ridge,ElasticNet\n",
    "from sklearn.metrics import r2_score,mean_absolute_error,mean_squared_error\n",
    "from xgboost import XGBRegressor"
   ]
  },
  {
   "cell_type": "code",
   "execution_count": 77,
   "metadata": {
    "id": "-w_7_rNQguhl"
   },
   "outputs": [],
   "source": [
    "def evaluate_model(y_test,y_pred):\n",
    "\n",
    "  mse = mean_squared_error(y_test,y_pred)\n",
    "  mae = mean_absolute_error(y_test,y_pred)\n",
    "  rmse = np.sqrt(mean_squared_error(y_test,y_pred))\n",
    "  r2 = r2_score(y_test,y_pred)\n",
    "\n",
    "  return mae , rmse , r2"
   ]
  },
  {
   "cell_type": "code",
   "execution_count": 78,
   "metadata": {
    "id": "oILdlhYfaCKZ"
   },
   "outputs": [],
   "source": [
    "models={\n",
    "    'LinearRegression':LinearRegression(),\n",
    "    'Lasso':Lasso(),\n",
    "    'Ridge':Ridge(),\n",
    "    'Elasticnet':ElasticNet(),\n",
    "    'DecisionTree' : DecisionTreeRegressor(),\n",
    "    \"XGBRegressor\" : XGBRegressor()\n",
    "}"
   ]
  },
  {
   "cell_type": "code",
   "execution_count": 79,
   "metadata": {
    "colab": {
     "base_uri": "https://localhost:8080/"
    },
    "id": "hvDDhdKIo6N1",
    "outputId": "faf82144-e53c-4beb-dadf-b7140b70004a"
   },
   "outputs": [
    {
     "data": {
      "text/plain": [
       "6"
      ]
     },
     "execution_count": 79,
     "metadata": {},
     "output_type": "execute_result"
    }
   ],
   "source": [
    "len(models)"
   ]
  },
  {
   "cell_type": "code",
   "execution_count": 80,
   "metadata": {
    "colab": {
     "base_uri": "https://localhost:8080/"
    },
    "id": "4EWsl2B3rvZ8",
    "outputId": "d3d4c84f-a73e-467f-b960-cbc5e4fae801"
   },
   "outputs": [
    {
     "data": {
      "text/plain": [
       "dict_items([('LinearRegression', LinearRegression()), ('Lasso', Lasso()), ('Ridge', Ridge()), ('Elasticnet', ElasticNet()), ('DecisionTree', DecisionTreeRegressor()), ('XGBRegressor', XGBRegressor(base_score=None, booster=None, callbacks=None,\n",
       "             colsample_bylevel=None, colsample_bynode=None,\n",
       "             colsample_bytree=None, early_stopping_rounds=None,\n",
       "             enable_categorical=False, eval_metric=None, feature_types=None,\n",
       "             gamma=None, gpu_id=None, grow_policy=None, importance_type=None,\n",
       "             interaction_constraints=None, learning_rate=None, max_bin=None,\n",
       "             max_cat_threshold=None, max_cat_to_onehot=None,\n",
       "             max_delta_step=None, max_depth=None, max_leaves=None,\n",
       "             min_child_weight=None, missing=nan, monotone_constraints=None,\n",
       "             n_estimators=100, n_jobs=None, num_parallel_tree=None,\n",
       "             predictor=None, random_state=None, ...))])"
      ]
     },
     "execution_count": 80,
     "metadata": {},
     "output_type": "execute_result"
    }
   ],
   "source": [
    "models.items()"
   ]
  },
  {
   "cell_type": "code",
   "execution_count": 81,
   "metadata": {
    "colab": {
     "base_uri": "https://localhost:8080/"
    },
    "id": "O1h2SBldsvk9",
    "outputId": "631394a4-8ca5-44eb-ce15-88978a35842e"
   },
   "outputs": [
    {
     "name": "stdout",
     "output_type": "stream",
     "text": [
      "LinearRegression\n",
      "MODEL TRAINING PERFORMANCE\n",
      "RMSE: 27.34022817458339\n",
      "MAE: 14.340175111679834\n",
      "R2: 99.99154711010173\n",
      "***********************************\n",
      "🎆🎆🎆🎆🎆🎆🎆🎆🎆🎆🎆🎆🎆🎆🎆\n",
      "***********************************\n",
      "\n",
      "\n",
      "Lasso\n",
      "MODEL TRAINING PERFORMANCE\n",
      "RMSE: 110.17106649499695\n",
      "MAE: 84.3051097874514\n",
      "R2: 99.86274251093317\n",
      "***********************************\n",
      "🎆🎆🎆🎆🎆🎆🎆🎆🎆🎆🎆🎆🎆🎆🎆\n",
      "***********************************\n",
      "\n",
      "\n",
      "Ridge\n",
      "MODEL TRAINING PERFORMANCE\n",
      "RMSE: 34.40305380609565\n",
      "MAE: 18.820331003683844\n",
      "R2: 99.98661572251196\n",
      "***********************************\n",
      "🎆🎆🎆🎆🎆🎆🎆🎆🎆🎆🎆🎆🎆🎆🎆\n",
      "***********************************\n",
      "\n",
      "\n",
      "Elasticnet\n",
      "MODEL TRAINING PERFORMANCE\n",
      "RMSE: 469.22368038139643\n",
      "MAE: 372.88184527396544\n",
      "R2: 97.51022107855766\n",
      "***********************************\n",
      "🎆🎆🎆🎆🎆🎆🎆🎆🎆🎆🎆🎆🎆🎆🎆\n",
      "***********************************\n",
      "\n",
      "\n",
      "DecisionTree\n",
      "MODEL TRAINING PERFORMANCE\n",
      "RMSE: 48.00856947565253\n",
      "MAE: 24.574727379310335\n",
      "R2: 99.9739361556507\n",
      "***********************************\n",
      "🎆🎆🎆🎆🎆🎆🎆🎆🎆🎆🎆🎆🎆🎆🎆\n",
      "***********************************\n",
      "\n",
      "\n"
     ]
    },
    {
     "name": "stderr",
     "output_type": "stream",
     "text": [
      "C:\\Users\\dodiy\\anaconda3\\Lib\\site-packages\\sklearn\\linear_model\\_coordinate_descent.py:631: ConvergenceWarning: Objective did not converge. You might want to increase the number of iterations, check the scale of the features or consider increasing regularisation. Duality gap: 4.032e+02, tolerance: 2.643e+02\n",
      "  model = cd_fast.enet_coordinate_descent(\n"
     ]
    },
    {
     "name": "stdout",
     "output_type": "stream",
     "text": [
      "XGBRegressor\n",
      "MODEL TRAINING PERFORMANCE\n",
      "RMSE: 41.917660247058144\n",
      "MAE: 23.123004723089803\n",
      "R2: 99.98013013075497\n",
      "***********************************\n",
      "🎆🎆🎆🎆🎆🎆🎆🎆🎆🎆🎆🎆🎆🎆🎆\n",
      "***********************************\n",
      "\n",
      "\n"
     ]
    }
   ],
   "source": [
    "for model_name , model in models.items():\n",
    "  model.fit(X_train,y_train)\n",
    "\n",
    "  y_pred = model.predict(X_test)\n",
    "\n",
    "  mae , rmse , r2 = evaluate_model(y_test,y_pred)\n",
    "\n",
    "  print(model_name)\n",
    "  print('MODEL TRAINING PERFORMANCE')\n",
    "  print(\"RMSE:\",rmse * 100)\n",
    "  print('MAE:',mae * 100)\n",
    "  print('R2:',r2*100)\n",
    "\n",
    "  print('*'*35)\n",
    "  print('🎆'*15)\n",
    "  print('*'*35)\n",
    "  print('\\n')\n",
    "\n"
   ]
  },
  {
   "cell_type": "code",
   "execution_count": 82,
   "metadata": {},
   "outputs": [],
   "source": [
    "model_ridge = Ridge()\n",
    "model_ridge.fit(X_train,y_train)\n",
    "y_pred = model_ridge.predict(X_test)"
   ]
  },
  {
   "cell_type": "code",
   "execution_count": 83,
   "metadata": {
    "colab": {
     "base_uri": "https://localhost:8080/"
    },
    "id": "vs15REx_xfj7",
    "outputId": "13abfac5-62f8-4e03-ddbf-a08178994328"
   },
   "outputs": [
    {
     "name": "stdout",
     "output_type": "stream",
     "text": [
      "MSE =  11.835701111851124\n",
      "R2-SCORE =  99.98661572251196\n"
     ]
    }
   ],
   "source": [
    "MSE = mean_squared_error(y_test,y_pred) * 100\n",
    "R2_SCORE = r2_score(y_test,y_pred) * 100\n",
    "print('MSE = ',MSE)\n",
    "print('R2-SCORE = ',R2_SCORE)"
   ]
  },
  {
   "cell_type": "code",
   "execution_count": 84,
   "metadata": {
    "id": "uR_k691YzBZY"
   },
   "outputs": [],
   "source": [
    "import joblib"
   ]
  },
  {
   "cell_type": "code",
   "execution_count": 85,
   "metadata": {
    "colab": {
     "base_uri": "https://localhost:8080/"
    },
    "id": "jTAEdovJ5jDG",
    "outputId": "12cc6932-71c4-4fa5-df99-0d9748dbb7c4"
   },
   "outputs": [
    {
     "data": {
      "text/plain": [
       "['model.joblib']"
      ]
     },
     "execution_count": 85,
     "metadata": {},
     "output_type": "execute_result"
    }
   ],
   "source": [
    "joblib.dump(model_ridge , \"model.joblib\")"
   ]
  },
  {
   "cell_type": "code",
   "execution_count": 86,
   "metadata": {},
   "outputs": [
    {
     "data": {
      "text/plain": [
       "['scaler.joblib']"
      ]
     },
     "execution_count": 86,
     "metadata": {},
     "output_type": "execute_result"
    }
   ],
   "source": [
    "joblib.dump(scaler , \"scaler.joblib\")"
   ]
  },
  {
   "cell_type": "code",
   "execution_count": null,
   "metadata": {},
   "outputs": [],
   "source": []
  }
 ],
 "metadata": {
  "accelerator": "GPU",
  "colab": {
   "gpuType": "T4",
   "provenance": []
  },
  "kernelspec": {
   "display_name": "Python 3 (ipykernel)",
   "language": "python",
   "name": "python3"
  },
  "language_info": {
   "codemirror_mode": {
    "name": "ipython",
    "version": 3
   },
   "file_extension": ".py",
   "mimetype": "text/x-python",
   "name": "python",
   "nbconvert_exporter": "python",
   "pygments_lexer": "ipython3",
   "version": "3.11.5"
  }
 },
 "nbformat": 4,
 "nbformat_minor": 4
}
