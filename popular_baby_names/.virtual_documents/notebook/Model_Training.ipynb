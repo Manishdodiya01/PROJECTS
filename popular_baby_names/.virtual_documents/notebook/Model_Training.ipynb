


!pip install scikit-learn==1.2.2


import pandas as pd
import numpy as np
import matplotlib.pyplot as plt
import seaborn as sns
from sklearn.model_selection import train_test_split , cross_val_score , GridSearchCV , RandomizedSearchCV
from sklearn.preprocessing import LabelEncoder , OneHotEncoder , StandardScaler
from sklearn.linear_model import LogisticRegression
from sklearn.tree import DecisionTreeClassifier
from xgboost import XGBRFClassifier , XGBClassifier
from sklearn.ensemble import VotingClassifier , RandomForestClassifier , GradientBoostingClassifier
from sklearn.metrics import confusion_matrix , accuracy_score , classification_report
from sklearn.pipeline import make_pipeline , Pipeline
from sklearn.compose import ColumnTransformer , make_column_transformer





names = ['year_of_birth' , 'gender' , 'ethnicity' , 'child_first_name' , 'count' , 'rank']
df = pd.read_csv('Popular_Baby_Names.csv' , names=names , header=0)
df.head()


df['rank'].unique()


df['rank'].nunique()








df['target'] = 'less_popular'

# Update 'target' based on the specified ranges
df.loc[(df['rank'] >= 1) & (df['rank'] <= 25), 'target'] = 'high_popular'
df.loc[(df['rank'] > 25) & (df['rank'] <= 50), 'target'] = 'popular'
df.loc[(df['rank'] > 50) & (df['rank'] <= 75), 'target'] = 'medium_popular'


df['target'].unique()


df['target'].value_counts()


mapping = {
    "high_popular" : 0,
    "popular" : 1,
    "medium_popular" : 2,
    "less_popular" : 3
}
df['target'] = df['target'].map(mapping)
df['target'].value_counts()


df.head()


X = df.drop(['rank','target'] , axis=1)
y = df['target']

X_train , X_test , y_train , y_test = train_test_split(X,y,test_size=0.2,random_state=42)


nominal_cols = ['gender','ethnicity']
label_col = ['child_first_name']
standard_scaling_data = ['year_of_birth', 'gender', 'ethnicity', 'child_first_name', 'count']


from sklearn.pipeline import Pipeline
from sklearn.compose import ColumnTransformer
from sklearn.preprocessing import StandardScaler, OneHotEncoder, LabelEncoder

#label_encode_cols = ['child_first_name']
one_hot_encode_cols = ['gender', 'ethnicity','child_first_name']
scale_cols = ['count']

preprocessor = ColumnTransformer(
    transformers=[
        ('one_hot_encode', OneHotEncoder(drop='first',handle_unknown='ignore' , sparse_output=False), one_hot_encode_cols),
        ('scale', StandardScaler(), ['count']),
    ],
    remainder='passthrough'
)

# Create the final pipeline
pipeline = Pipeline(steps=[
    ('preprocessor', preprocessor)
])


X_train_transformed = pipeline.fit_transform(X_train)
column_names = (pipeline.named_steps['preprocessor']
                .named_transformers_['one_hot_encode']
                .get_feature_names_out(input_features=one_hot_encode_cols))
column_names = list(column_names) + ['count'] + ['year_of_birth']

X_train_transformed_df = pd.DataFrame(X_train_transformed,columns=column_names)
X_train_transformed_df.head()


X_test_transformed = pipeline.transform(X_test)
column_names = (pipeline.named_steps['preprocessor']
                .named_transformers_['one_hot_encode']
                .get_feature_names_out(input_features=one_hot_encode_cols))
column_names = list(column_names) + ['count'] + ['year_of_birth']

X_test_transformed_df = pd.DataFrame(X_test_transformed, columns=column_names)
X_test_transformed_df.head()


model_list = {
    "LogisticRegression" : LogisticRegression(),
    "DecisionTreeClassifier" : DecisionTreeClassifier(),
    "XGBClassifier" : XGBClassifier()
}


model_list.items()


for name , model in model_list.items():

  model = model.fit(X_train_transformed_df,y_train)
  y_pred = model.predict(X_test_transformed_df)

  print(f"Model Name = {name}")
  print(f"Accuracy Score = {accuracy_score(y_test,y_pred)}")

  print("*"*50)


model = XGBClassifier()
model.fit(X_train_transformed_df,y_train)


import joblib

joblib.dump(model , "Xgb_model.joblib")
joblib.dump(pipeline , "preprocessor.joblib")


import joblib


model = joblib.load('Xgb_model.joblib')


model


import joblib
joblib.dump(preprocessor , "preprocessor_.joblib")





import sklearn

print("Scikit-learn version:", sklearn.__version__)




