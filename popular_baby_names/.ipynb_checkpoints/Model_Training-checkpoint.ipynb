{
 "cells": [
  {
   "cell_type": "markdown",
   "id": "c88e98f4-6685-45eb-afd5-e651a032d44b",
   "metadata": {},
   "source": [
    "### Imports necessary libraries for data manipulation, visualization, model training, and evaluation."
   ]
  },
  {
   "cell_type": "code",
   "execution_count": 2,
   "id": "c0712945-1389-4417-a526-a62c7485ab75",
   "metadata": {
    "tags": []
   },
   "outputs": [],
   "source": [
    "import warnings\n",
    "warnings.filterwarnings('ignore')\n",
    "import pandas as pd\n",
    "import numpy as np\n",
    "import matplotlib.pyplot as plt\n",
    "import seaborn as sns\n",
    "from sklearn.model_selection import train_test_split , cross_val_score , GridSearchCV , RandomizedSearchCV\n",
    "from sklearn.preprocessing import LabelEncoder , OneHotEncoder , StandardScaler , OrdinalEncoder\n",
    "from sklearn.linear_model import LogisticRegression\n",
    "from sklearn.tree import DecisionTreeClassifier\n",
    "from xgboost import XGBRFClassifier\n",
    "from catboost import CatBoostClassifier\n",
    "from sklearn.ensemble import VotingClassifier , RandomForestClassifier , GradientBoostingClassifier\n",
    "from sklearn.metrics import confusion_matrix , accuracy_score , classification_report\n",
    "from sklearn.pipeline import make_pipeline , Pipeline\n",
    "from sklearn.compose import ColumnTransformer , make_column_transformer"
   ]
  },
  {
   "cell_type": "markdown",
   "id": "98c3fcd1-613a-4098-8e2e-2ae077f4aea4",
   "metadata": {},
   "source": [
    "### Reads a CSV file ('Popular_Baby_Names.csv') into a DataFrame and displays the first few rows."
   ]
  },
  {
   "cell_type": "code",
   "execution_count": 3,
   "id": "6ffcdc6d-3a2e-4198-87a2-7469e00707a2",
   "metadata": {
    "tags": []
   },
   "outputs": [
    {
     "data": {
      "text/html": [
       "<div>\n",
       "<style scoped>\n",
       "    .dataframe tbody tr th:only-of-type {\n",
       "        vertical-align: middle;\n",
       "    }\n",
       "\n",
       "    .dataframe tbody tr th {\n",
       "        vertical-align: top;\n",
       "    }\n",
       "\n",
       "    .dataframe thead th {\n",
       "        text-align: right;\n",
       "    }\n",
       "</style>\n",
       "<table border=\"1\" class=\"dataframe\">\n",
       "  <thead>\n",
       "    <tr style=\"text-align: right;\">\n",
       "      <th></th>\n",
       "      <th>year_of_birth</th>\n",
       "      <th>gender</th>\n",
       "      <th>ethnicity</th>\n",
       "      <th>child_first_name</th>\n",
       "      <th>count</th>\n",
       "      <th>rank</th>\n",
       "    </tr>\n",
       "  </thead>\n",
       "  <tbody>\n",
       "    <tr>\n",
       "      <th>0</th>\n",
       "      <td>2011</td>\n",
       "      <td>FEMALE</td>\n",
       "      <td>HISPANIC</td>\n",
       "      <td>GERALDINE</td>\n",
       "      <td>13</td>\n",
       "      <td>75</td>\n",
       "    </tr>\n",
       "    <tr>\n",
       "      <th>1</th>\n",
       "      <td>2011</td>\n",
       "      <td>FEMALE</td>\n",
       "      <td>HISPANIC</td>\n",
       "      <td>GIA</td>\n",
       "      <td>21</td>\n",
       "      <td>67</td>\n",
       "    </tr>\n",
       "    <tr>\n",
       "      <th>2</th>\n",
       "      <td>2011</td>\n",
       "      <td>FEMALE</td>\n",
       "      <td>HISPANIC</td>\n",
       "      <td>GIANNA</td>\n",
       "      <td>49</td>\n",
       "      <td>42</td>\n",
       "    </tr>\n",
       "    <tr>\n",
       "      <th>3</th>\n",
       "      <td>2011</td>\n",
       "      <td>FEMALE</td>\n",
       "      <td>HISPANIC</td>\n",
       "      <td>GISELLE</td>\n",
       "      <td>38</td>\n",
       "      <td>51</td>\n",
       "    </tr>\n",
       "    <tr>\n",
       "      <th>4</th>\n",
       "      <td>2011</td>\n",
       "      <td>FEMALE</td>\n",
       "      <td>HISPANIC</td>\n",
       "      <td>GRACE</td>\n",
       "      <td>36</td>\n",
       "      <td>53</td>\n",
       "    </tr>\n",
       "  </tbody>\n",
       "</table>\n",
       "</div>"
      ],
      "text/plain": [
       "   year_of_birth  gender ethnicity child_first_name  count  rank\n",
       "0           2011  FEMALE  HISPANIC        GERALDINE     13    75\n",
       "1           2011  FEMALE  HISPANIC              GIA     21    67\n",
       "2           2011  FEMALE  HISPANIC           GIANNA     49    42\n",
       "3           2011  FEMALE  HISPANIC          GISELLE     38    51\n",
       "4           2011  FEMALE  HISPANIC            GRACE     36    53"
      ]
     },
     "execution_count": 3,
     "metadata": {},
     "output_type": "execute_result"
    }
   ],
   "source": [
    "names = ['year_of_birth' , 'gender' , 'ethnicity' , 'child_first_name' , 'count' , 'rank']\n",
    "df = pd.read_csv('Popular_Baby_Names.csv' , names=names , header=0)\n",
    "df.head()"
   ]
  },
  {
   "cell_type": "code",
   "execution_count": 4,
   "id": "8cc88ba6-d206-426d-aa5f-5d1129515dd9",
   "metadata": {
    "tags": []
   },
   "outputs": [
    {
     "data": {
      "text/plain": [
       "(57582,)"
      ]
     },
     "execution_count": 4,
     "metadata": {},
     "output_type": "execute_result"
    }
   ],
   "source": [
    "df['child_first_name'].shape"
   ]
  },
  {
   "cell_type": "code",
   "execution_count": 5,
   "id": "0f0e8dcf-fb64-4be6-8d8c-8c3c38dec1f1",
   "metadata": {
    "tags": []
   },
   "outputs": [
    {
     "data": {
      "text/plain": [
       "array([ 75,  67,  42,  51,  53,  62,   8,  74,  71,  78,  73,  72,  77,\n",
       "        60,   1,  70,  61,  65,  58,  41,  76,  68,  48,  55,  40,  66,\n",
       "        64,  34,  44,  57,  63,  33,  31,  20,  69,  35,  13,  52,  59,\n",
       "        39,   9,  27,  10,  56,  12,   2,  25,  18,  14,  38,  28,   6,\n",
       "         3,  19,  45,  47,  11,  79,  17,  43,  80,  37,  81,  46,   5,\n",
       "        22,  50,  21,  30,  24,  54,  15,  36,  23,   7,  16,  49,  29,\n",
       "         4,  32,  26,  92,  90,  82,  91,  88,  89,  94,  83,  93,  84,\n",
       "        87,  85,  86,  96,  97,  95,  99,  98, 100, 101, 102], dtype=int64)"
      ]
     },
     "execution_count": 5,
     "metadata": {},
     "output_type": "execute_result"
    }
   ],
   "source": [
    "df['rank'].unique()"
   ]
  },
  {
   "cell_type": "code",
   "execution_count": 6,
   "id": "1050c0a6-0f73-4940-a0b8-4057cbec1b9b",
   "metadata": {
    "tags": []
   },
   "outputs": [
    {
     "data": {
      "text/plain": [
       "102"
      ]
     },
     "execution_count": 6,
     "metadata": {},
     "output_type": "execute_result"
    }
   ],
   "source": [
    "df['rank'].nunique()"
   ]
  },
  {
   "cell_type": "markdown",
   "id": "f136c59f-2f7b-4b80-92d3-56c7a7daee5b",
   "metadata": {},
   "source": [
    "- df['rank'] = 1 to 25 = high_popular\n",
    "- df['rank'] = 25 to 50 = popular\n",
    "- df['rank'] = 50 to 75 = medium_popular\n",
    "- df['rank'] = 75 to _ = low_popular"
   ]
  },
  {
   "cell_type": "markdown",
   "id": "52e0baa1-5938-4772-9e92-c2212dfa8cb5",
   "metadata": {},
   "source": [
    "### Updates the 'target' column in the DataFrame based on specified rank ranges."
   ]
  },
  {
   "cell_type": "code",
   "execution_count": 7,
   "id": "ac51e3d5-8210-4ea7-a1eb-3df269bd46d6",
   "metadata": {
    "tags": []
   },
   "outputs": [],
   "source": [
    "df['target'] = 'less_popular'\n",
    "\n",
    "# Update 'target' based on the specified ranges\n",
    "df.loc[(df['rank'] >= 1) & (df['rank'] <= 25), 'target'] = 'high_popular'\n",
    "df.loc[(df['rank'] > 25) & (df['rank'] <= 50), 'target'] = 'popular'\n",
    "df.loc[(df['rank'] > 50) & (df['rank'] <= 75), 'target'] = 'medium_popular'"
   ]
  },
  {
   "cell_type": "code",
   "execution_count": 8,
   "id": "fac89c05-1421-4ce8-a0ef-33664a3960db",
   "metadata": {
    "tags": []
   },
   "outputs": [
    {
     "data": {
      "text/plain": [
       "array(['medium_popular', 'popular', 'high_popular', 'less_popular'],\n",
       "      dtype=object)"
      ]
     },
     "execution_count": 8,
     "metadata": {},
     "output_type": "execute_result"
    }
   ],
   "source": [
    "df['target'].unique()"
   ]
  },
  {
   "cell_type": "code",
   "execution_count": 9,
   "id": "38cf6928-225b-4368-b825-7aeb43d48644",
   "metadata": {
    "tags": []
   },
   "outputs": [
    {
     "data": {
      "text/plain": [
       "target\n",
       "less_popular      17373\n",
       "medium_popular    16806\n",
       "popular           15941\n",
       "high_popular       7462\n",
       "Name: count, dtype: int64"
      ]
     },
     "execution_count": 9,
     "metadata": {},
     "output_type": "execute_result"
    }
   ],
   "source": [
    "df['target'].value_counts()"
   ]
  },
  {
   "cell_type": "code",
   "execution_count": 10,
   "id": "1e3729f6-613d-4c9e-819d-436e14b3f8ed",
   "metadata": {
    "tags": []
   },
   "outputs": [
    {
     "data": {
      "text/plain": [
       "target\n",
       "4    17373\n",
       "3    16806\n",
       "2    15941\n",
       "1     7462\n",
       "Name: count, dtype: int64"
      ]
     },
     "execution_count": 10,
     "metadata": {},
     "output_type": "execute_result"
    }
   ],
   "source": [
    "mapping = {\n",
    "    \"high_popular\" : 1,\n",
    "    \"popular\" : 2,\n",
    "    \"medium_popular\" : 3,\n",
    "    \"less_popular\" : 4\n",
    "}\n",
    "df['target'] = df['target'].map(mapping)\n",
    "df['target'].value_counts()"
   ]
  },
  {
   "cell_type": "code",
   "execution_count": 11,
   "id": "bd52b793-1c67-4bf2-8cdc-df450b99ca14",
   "metadata": {
    "tags": []
   },
   "outputs": [],
   "source": [
    "nominal_cols = ['gender','ethnicity']\n",
    "label_col = ['child_first_name']\n",
    "standard_scaling_data = ['year_of_birth', 'gender', 'ethnicity', 'child_first_name', 'count']"
   ]
  },
  {
   "cell_type": "code",
   "execution_count": 12,
   "id": "ff4672b5-0622-4790-a885-8ac097416f11",
   "metadata": {
    "tags": []
   },
   "outputs": [],
   "source": [
    "X = df.drop(columns=['rank','target'])\n",
    "y = df['target']\n",
    "\n",
    "X_train , X_test , y_train , y_test = train_test_split(X,y,test_size=0.2,random_state=42)"
   ]
  },
  {
   "cell_type": "code",
   "execution_count": 13,
   "id": "5fe83db8-cbc1-44ce-9165-4452cccc1aa6",
   "metadata": {
    "tags": []
   },
   "outputs": [],
   "source": [
    "from sklearn.pipeline import Pipeline\n",
    "from sklearn.compose import ColumnTransformer\n",
    "from sklearn.preprocessing import StandardScaler, OneHotEncoder, LabelEncoder\n",
    "\n",
    "#label_encode_cols = ['child_first_name']\n",
    "one_hot_encode_cols = ['gender', 'ethnicity','child_first_name']\n",
    "scale_cols = ['count']\n",
    "\n",
    "preprocessor = ColumnTransformer(\n",
    "    transformers=[\n",
    "        ('one_hot_encode', OneHotEncoder(drop='first',handle_unknown='ignore' , sparse_output=False), one_hot_encode_cols),\n",
    "        ('scale', StandardScaler(), ['count']),\n",
    "    ],\n",
    "    remainder='passthrough' \n",
    ")\n",
    "\n",
    "# Create the final pipeline\n",
    "pipeline = Pipeline(steps=[\n",
    "    ('preprocessor', preprocessor)\n",
    "])"
   ]
  },
  {
   "cell_type": "code",
   "execution_count": 14,
   "id": "afd7d26e-8f9e-4f07-9fc4-a2ac4e421597",
   "metadata": {
    "tags": []
   },
   "outputs": [
    {
     "data": {
      "text/html": [
       "<div>\n",
       "<style scoped>\n",
       "    .dataframe tbody tr th:only-of-type {\n",
       "        vertical-align: middle;\n",
       "    }\n",
       "\n",
       "    .dataframe tbody tr th {\n",
       "        vertical-align: top;\n",
       "    }\n",
       "\n",
       "    .dataframe thead th {\n",
       "        text-align: right;\n",
       "    }\n",
       "</style>\n",
       "<table border=\"1\" class=\"dataframe\">\n",
       "  <thead>\n",
       "    <tr style=\"text-align: right;\">\n",
       "      <th></th>\n",
       "      <th>gender_MALE</th>\n",
       "      <th>ethnicity_ASIAN AND PACIFIC ISLANDER</th>\n",
       "      <th>ethnicity_BLACK NON HISP</th>\n",
       "      <th>ethnicity_BLACK NON HISPANIC</th>\n",
       "      <th>ethnicity_HISPANIC</th>\n",
       "      <th>ethnicity_WHITE NON HISP</th>\n",
       "      <th>ethnicity_WHITE NON HISPANIC</th>\n",
       "      <th>child_first_name_AARAV</th>\n",
       "      <th>child_first_name_AARON</th>\n",
       "      <th>child_first_name_AAYAN</th>\n",
       "      <th>...</th>\n",
       "      <th>child_first_name_Zion</th>\n",
       "      <th>child_first_name_Zissy</th>\n",
       "      <th>child_first_name_Zoe</th>\n",
       "      <th>child_first_name_Zoey</th>\n",
       "      <th>child_first_name_Zora</th>\n",
       "      <th>child_first_name_Zoya</th>\n",
       "      <th>child_first_name_Zuri</th>\n",
       "      <th>child_first_name_Zyaire</th>\n",
       "      <th>count</th>\n",
       "      <th>year_of_birth</th>\n",
       "    </tr>\n",
       "  </thead>\n",
       "  <tbody>\n",
       "    <tr>\n",
       "      <th>0</th>\n",
       "      <td>0.0</td>\n",
       "      <td>0.0</td>\n",
       "      <td>0.0</td>\n",
       "      <td>0.0</td>\n",
       "      <td>1.0</td>\n",
       "      <td>0.0</td>\n",
       "      <td>0.0</td>\n",
       "      <td>0.0</td>\n",
       "      <td>0.0</td>\n",
       "      <td>0.0</td>\n",
       "      <td>...</td>\n",
       "      <td>0.0</td>\n",
       "      <td>0.0</td>\n",
       "      <td>0.0</td>\n",
       "      <td>0.0</td>\n",
       "      <td>0.0</td>\n",
       "      <td>0.0</td>\n",
       "      <td>0.0</td>\n",
       "      <td>0.0</td>\n",
       "      <td>4.005663</td>\n",
       "      <td>2011.0</td>\n",
       "    </tr>\n",
       "    <tr>\n",
       "      <th>1</th>\n",
       "      <td>0.0</td>\n",
       "      <td>0.0</td>\n",
       "      <td>0.0</td>\n",
       "      <td>0.0</td>\n",
       "      <td>0.0</td>\n",
       "      <td>0.0</td>\n",
       "      <td>0.0</td>\n",
       "      <td>0.0</td>\n",
       "      <td>0.0</td>\n",
       "      <td>0.0</td>\n",
       "      <td>...</td>\n",
       "      <td>0.0</td>\n",
       "      <td>0.0</td>\n",
       "      <td>0.0</td>\n",
       "      <td>0.0</td>\n",
       "      <td>0.0</td>\n",
       "      <td>0.0</td>\n",
       "      <td>0.0</td>\n",
       "      <td>0.0</td>\n",
       "      <td>0.773576</td>\n",
       "      <td>2012.0</td>\n",
       "    </tr>\n",
       "    <tr>\n",
       "      <th>2</th>\n",
       "      <td>1.0</td>\n",
       "      <td>1.0</td>\n",
       "      <td>0.0</td>\n",
       "      <td>0.0</td>\n",
       "      <td>0.0</td>\n",
       "      <td>0.0</td>\n",
       "      <td>0.0</td>\n",
       "      <td>0.0</td>\n",
       "      <td>0.0</td>\n",
       "      <td>0.0</td>\n",
       "      <td>...</td>\n",
       "      <td>0.0</td>\n",
       "      <td>0.0</td>\n",
       "      <td>0.0</td>\n",
       "      <td>0.0</td>\n",
       "      <td>0.0</td>\n",
       "      <td>0.0</td>\n",
       "      <td>0.0</td>\n",
       "      <td>0.0</td>\n",
       "      <td>0.414455</td>\n",
       "      <td>2011.0</td>\n",
       "    </tr>\n",
       "    <tr>\n",
       "      <th>3</th>\n",
       "      <td>0.0</td>\n",
       "      <td>0.0</td>\n",
       "      <td>0.0</td>\n",
       "      <td>1.0</td>\n",
       "      <td>0.0</td>\n",
       "      <td>0.0</td>\n",
       "      <td>0.0</td>\n",
       "      <td>0.0</td>\n",
       "      <td>0.0</td>\n",
       "      <td>0.0</td>\n",
       "      <td>...</td>\n",
       "      <td>0.0</td>\n",
       "      <td>0.0</td>\n",
       "      <td>0.0</td>\n",
       "      <td>0.0</td>\n",
       "      <td>0.0</td>\n",
       "      <td>0.0</td>\n",
       "      <td>0.0</td>\n",
       "      <td>0.0</td>\n",
       "      <td>-0.483347</td>\n",
       "      <td>2019.0</td>\n",
       "    </tr>\n",
       "    <tr>\n",
       "      <th>4</th>\n",
       "      <td>1.0</td>\n",
       "      <td>0.0</td>\n",
       "      <td>0.0</td>\n",
       "      <td>0.0</td>\n",
       "      <td>0.0</td>\n",
       "      <td>0.0</td>\n",
       "      <td>0.0</td>\n",
       "      <td>0.0</td>\n",
       "      <td>0.0</td>\n",
       "      <td>0.0</td>\n",
       "      <td>...</td>\n",
       "      <td>0.0</td>\n",
       "      <td>0.0</td>\n",
       "      <td>0.0</td>\n",
       "      <td>0.0</td>\n",
       "      <td>0.0</td>\n",
       "      <td>0.0</td>\n",
       "      <td>0.0</td>\n",
       "      <td>0.0</td>\n",
       "      <td>1.260954</td>\n",
       "      <td>2012.0</td>\n",
       "    </tr>\n",
       "  </tbody>\n",
       "</table>\n",
       "<p>5 rows × 3165 columns</p>\n",
       "</div>"
      ],
      "text/plain": [
       "   gender_MALE  ethnicity_ASIAN AND PACIFIC ISLANDER  \\\n",
       "0          0.0                                   0.0   \n",
       "1          0.0                                   0.0   \n",
       "2          1.0                                   1.0   \n",
       "3          0.0                                   0.0   \n",
       "4          1.0                                   0.0   \n",
       "\n",
       "   ethnicity_BLACK NON HISP  ethnicity_BLACK NON HISPANIC  ethnicity_HISPANIC  \\\n",
       "0                       0.0                           0.0                 1.0   \n",
       "1                       0.0                           0.0                 0.0   \n",
       "2                       0.0                           0.0                 0.0   \n",
       "3                       0.0                           1.0                 0.0   \n",
       "4                       0.0                           0.0                 0.0   \n",
       "\n",
       "   ethnicity_WHITE NON HISP  ethnicity_WHITE NON HISPANIC  \\\n",
       "0                       0.0                           0.0   \n",
       "1                       0.0                           0.0   \n",
       "2                       0.0                           0.0   \n",
       "3                       0.0                           0.0   \n",
       "4                       0.0                           0.0   \n",
       "\n",
       "   child_first_name_AARAV  child_first_name_AARON  child_first_name_AAYAN  \\\n",
       "0                     0.0                     0.0                     0.0   \n",
       "1                     0.0                     0.0                     0.0   \n",
       "2                     0.0                     0.0                     0.0   \n",
       "3                     0.0                     0.0                     0.0   \n",
       "4                     0.0                     0.0                     0.0   \n",
       "\n",
       "   ...  child_first_name_Zion  child_first_name_Zissy  child_first_name_Zoe  \\\n",
       "0  ...                    0.0                     0.0                   0.0   \n",
       "1  ...                    0.0                     0.0                   0.0   \n",
       "2  ...                    0.0                     0.0                   0.0   \n",
       "3  ...                    0.0                     0.0                   0.0   \n",
       "4  ...                    0.0                     0.0                   0.0   \n",
       "\n",
       "   child_first_name_Zoey  child_first_name_Zora  child_first_name_Zoya  \\\n",
       "0                    0.0                    0.0                    0.0   \n",
       "1                    0.0                    0.0                    0.0   \n",
       "2                    0.0                    0.0                    0.0   \n",
       "3                    0.0                    0.0                    0.0   \n",
       "4                    0.0                    0.0                    0.0   \n",
       "\n",
       "   child_first_name_Zuri  child_first_name_Zyaire     count  year_of_birth  \n",
       "0                    0.0                      0.0  4.005663         2011.0  \n",
       "1                    0.0                      0.0  0.773576         2012.0  \n",
       "2                    0.0                      0.0  0.414455         2011.0  \n",
       "3                    0.0                      0.0 -0.483347         2019.0  \n",
       "4                    0.0                      0.0  1.260954         2012.0  \n",
       "\n",
       "[5 rows x 3165 columns]"
      ]
     },
     "execution_count": 14,
     "metadata": {},
     "output_type": "execute_result"
    }
   ],
   "source": [
    "X_train_transformed = pipeline.fit_transform(X_train)\n",
    "column_names = (pipeline.named_steps['preprocessor']\n",
    "                .named_transformers_['one_hot_encode']\n",
    "                .get_feature_names_out(input_features=one_hot_encode_cols))\n",
    "column_names = list(column_names) + ['count'] + ['year_of_birth']\n",
    "\n",
    "X_train_transformed_df = pd.DataFrame(X_train_transformed,columns=column_names)\n",
    "X_train_transformed_df.head()"
   ]
  },
  {
   "cell_type": "code",
   "execution_count": 37,
   "id": "000a8a25-ac32-4bff-b736-533be727c610",
   "metadata": {
    "tags": []
   },
   "outputs": [
    {
     "data": {
      "text/html": [
       "<div>\n",
       "<style scoped>\n",
       "    .dataframe tbody tr th:only-of-type {\n",
       "        vertical-align: middle;\n",
       "    }\n",
       "\n",
       "    .dataframe tbody tr th {\n",
       "        vertical-align: top;\n",
       "    }\n",
       "\n",
       "    .dataframe thead th {\n",
       "        text-align: right;\n",
       "    }\n",
       "</style>\n",
       "<table border=\"1\" class=\"dataframe\">\n",
       "  <thead>\n",
       "    <tr style=\"text-align: right;\">\n",
       "      <th></th>\n",
       "      <th>gender_MALE</th>\n",
       "      <th>ethnicity_ASIAN AND PACIFIC ISLANDER</th>\n",
       "      <th>ethnicity_BLACK NON HISP</th>\n",
       "      <th>ethnicity_BLACK NON HISPANIC</th>\n",
       "      <th>ethnicity_HISPANIC</th>\n",
       "      <th>ethnicity_WHITE NON HISP</th>\n",
       "      <th>ethnicity_WHITE NON HISPANIC</th>\n",
       "      <th>child_first_name_AARAV</th>\n",
       "      <th>child_first_name_AARON</th>\n",
       "      <th>child_first_name_AAYAN</th>\n",
       "      <th>...</th>\n",
       "      <th>child_first_name_Zion</th>\n",
       "      <th>child_first_name_Zissy</th>\n",
       "      <th>child_first_name_Zoe</th>\n",
       "      <th>child_first_name_Zoey</th>\n",
       "      <th>child_first_name_Zora</th>\n",
       "      <th>child_first_name_Zoya</th>\n",
       "      <th>child_first_name_Zuri</th>\n",
       "      <th>child_first_name_Zyaire</th>\n",
       "      <th>count</th>\n",
       "      <th>year_of_birth</th>\n",
       "    </tr>\n",
       "  </thead>\n",
       "  <tbody>\n",
       "    <tr>\n",
       "      <th>11512</th>\n",
       "      <td>0.0</td>\n",
       "      <td>0.0</td>\n",
       "      <td>0.0</td>\n",
       "      <td>0.0</td>\n",
       "      <td>0.0</td>\n",
       "      <td>0.0</td>\n",
       "      <td>1.0</td>\n",
       "      <td>0.0</td>\n",
       "      <td>0.0</td>\n",
       "      <td>0.0</td>\n",
       "      <td>...</td>\n",
       "      <td>0.0</td>\n",
       "      <td>0.0</td>\n",
       "      <td>0.0</td>\n",
       "      <td>0.0</td>\n",
       "      <td>0.0</td>\n",
       "      <td>0.0</td>\n",
       "      <td>0.0</td>\n",
       "      <td>0.0</td>\n",
       "      <td>-0.355089</td>\n",
       "      <td>2014.0</td>\n",
       "    </tr>\n",
       "    <tr>\n",
       "      <th>11513</th>\n",
       "      <td>0.0</td>\n",
       "      <td>0.0</td>\n",
       "      <td>1.0</td>\n",
       "      <td>0.0</td>\n",
       "      <td>0.0</td>\n",
       "      <td>0.0</td>\n",
       "      <td>0.0</td>\n",
       "      <td>0.0</td>\n",
       "      <td>0.0</td>\n",
       "      <td>0.0</td>\n",
       "      <td>...</td>\n",
       "      <td>0.0</td>\n",
       "      <td>0.0</td>\n",
       "      <td>0.0</td>\n",
       "      <td>0.0</td>\n",
       "      <td>0.0</td>\n",
       "      <td>0.0</td>\n",
       "      <td>0.0</td>\n",
       "      <td>0.0</td>\n",
       "      <td>0.953137</td>\n",
       "      <td>2012.0</td>\n",
       "    </tr>\n",
       "    <tr>\n",
       "      <th>11514</th>\n",
       "      <td>1.0</td>\n",
       "      <td>0.0</td>\n",
       "      <td>0.0</td>\n",
       "      <td>0.0</td>\n",
       "      <td>1.0</td>\n",
       "      <td>0.0</td>\n",
       "      <td>0.0</td>\n",
       "      <td>0.0</td>\n",
       "      <td>0.0</td>\n",
       "      <td>0.0</td>\n",
       "      <td>...</td>\n",
       "      <td>0.0</td>\n",
       "      <td>0.0</td>\n",
       "      <td>0.0</td>\n",
       "      <td>0.0</td>\n",
       "      <td>0.0</td>\n",
       "      <td>0.0</td>\n",
       "      <td>0.0</td>\n",
       "      <td>0.0</td>\n",
       "      <td>-0.380741</td>\n",
       "      <td>2019.0</td>\n",
       "    </tr>\n",
       "    <tr>\n",
       "      <th>11515</th>\n",
       "      <td>1.0</td>\n",
       "      <td>0.0</td>\n",
       "      <td>0.0</td>\n",
       "      <td>0.0</td>\n",
       "      <td>0.0</td>\n",
       "      <td>0.0</td>\n",
       "      <td>1.0</td>\n",
       "      <td>0.0</td>\n",
       "      <td>0.0</td>\n",
       "      <td>0.0</td>\n",
       "      <td>...</td>\n",
       "      <td>0.0</td>\n",
       "      <td>0.0</td>\n",
       "      <td>0.0</td>\n",
       "      <td>0.0</td>\n",
       "      <td>0.0</td>\n",
       "      <td>0.0</td>\n",
       "      <td>0.0</td>\n",
       "      <td>0.0</td>\n",
       "      <td>-0.611604</td>\n",
       "      <td>2014.0</td>\n",
       "    </tr>\n",
       "    <tr>\n",
       "      <th>11516</th>\n",
       "      <td>1.0</td>\n",
       "      <td>0.0</td>\n",
       "      <td>0.0</td>\n",
       "      <td>0.0</td>\n",
       "      <td>0.0</td>\n",
       "      <td>0.0</td>\n",
       "      <td>1.0</td>\n",
       "      <td>0.0</td>\n",
       "      <td>0.0</td>\n",
       "      <td>0.0</td>\n",
       "      <td>...</td>\n",
       "      <td>0.0</td>\n",
       "      <td>0.0</td>\n",
       "      <td>0.0</td>\n",
       "      <td>0.0</td>\n",
       "      <td>0.0</td>\n",
       "      <td>0.0</td>\n",
       "      <td>0.0</td>\n",
       "      <td>0.0</td>\n",
       "      <td>-0.355089</td>\n",
       "      <td>2014.0</td>\n",
       "    </tr>\n",
       "  </tbody>\n",
       "</table>\n",
       "<p>5 rows × 3165 columns</p>\n",
       "</div>"
      ],
      "text/plain": [
       "       gender_MALE  ethnicity_ASIAN AND PACIFIC ISLANDER  \\\n",
       "11512          0.0                                   0.0   \n",
       "11513          0.0                                   0.0   \n",
       "11514          1.0                                   0.0   \n",
       "11515          1.0                                   0.0   \n",
       "11516          1.0                                   0.0   \n",
       "\n",
       "       ethnicity_BLACK NON HISP  ethnicity_BLACK NON HISPANIC  \\\n",
       "11512                       0.0                           0.0   \n",
       "11513                       1.0                           0.0   \n",
       "11514                       0.0                           0.0   \n",
       "11515                       0.0                           0.0   \n",
       "11516                       0.0                           0.0   \n",
       "\n",
       "       ethnicity_HISPANIC  ethnicity_WHITE NON HISP  \\\n",
       "11512                 0.0                       0.0   \n",
       "11513                 0.0                       0.0   \n",
       "11514                 1.0                       0.0   \n",
       "11515                 0.0                       0.0   \n",
       "11516                 0.0                       0.0   \n",
       "\n",
       "       ethnicity_WHITE NON HISPANIC  child_first_name_AARAV  \\\n",
       "11512                           1.0                     0.0   \n",
       "11513                           0.0                     0.0   \n",
       "11514                           0.0                     0.0   \n",
       "11515                           1.0                     0.0   \n",
       "11516                           1.0                     0.0   \n",
       "\n",
       "       child_first_name_AARON  child_first_name_AAYAN  ...  \\\n",
       "11512                     0.0                     0.0  ...   \n",
       "11513                     0.0                     0.0  ...   \n",
       "11514                     0.0                     0.0  ...   \n",
       "11515                     0.0                     0.0  ...   \n",
       "11516                     0.0                     0.0  ...   \n",
       "\n",
       "       child_first_name_Zion  child_first_name_Zissy  child_first_name_Zoe  \\\n",
       "11512                    0.0                     0.0                   0.0   \n",
       "11513                    0.0                     0.0                   0.0   \n",
       "11514                    0.0                     0.0                   0.0   \n",
       "11515                    0.0                     0.0                   0.0   \n",
       "11516                    0.0                     0.0                   0.0   \n",
       "\n",
       "       child_first_name_Zoey  child_first_name_Zora  child_first_name_Zoya  \\\n",
       "11512                    0.0                    0.0                    0.0   \n",
       "11513                    0.0                    0.0                    0.0   \n",
       "11514                    0.0                    0.0                    0.0   \n",
       "11515                    0.0                    0.0                    0.0   \n",
       "11516                    0.0                    0.0                    0.0   \n",
       "\n",
       "       child_first_name_Zuri  child_first_name_Zyaire     count  year_of_birth  \n",
       "11512                    0.0                      0.0 -0.355089         2014.0  \n",
       "11513                    0.0                      0.0  0.953137         2012.0  \n",
       "11514                    0.0                      0.0 -0.380741         2019.0  \n",
       "11515                    0.0                      0.0 -0.611604         2014.0  \n",
       "11516                    0.0                      0.0 -0.355089         2014.0  \n",
       "\n",
       "[5 rows x 3165 columns]"
      ]
     },
     "execution_count": 37,
     "metadata": {},
     "output_type": "execute_result"
    }
   ],
   "source": [
    "X_test_transformed = pipeline.transform(X_test)\n",
    "column_names = (pipeline.named_steps['preprocessor']\n",
    "                .named_transformers_['one_hot_encode']\n",
    "                .get_feature_names_out(input_features=one_hot_encode_cols))\n",
    "column_names = list(column_names) + ['count'] + ['year_of_birth']\n",
    "\n",
    "X_test_transformed_df = pd.DataFrame(X_test_transformed, columns=column_names)\n",
    "X_test_transformed_df.tail()"
   ]
  },
  {
   "cell_type": "code",
   "execution_count": 36,
   "id": "35989299-21fe-4005-8552-5fbcfc5a0372",
   "metadata": {},
   "outputs": [
    {
     "data": {
      "text/plain": [
       "array([0., 1.])"
      ]
     },
     "execution_count": 36,
     "metadata": {},
     "output_type": "execute_result"
    }
   ],
   "source": [
    "X_test_transformed_df['child_first_name_Abdul'].unique()"
   ]
  },
  {
   "cell_type": "code",
   "execution_count": 16,
   "id": "05fdcc44-f783-4107-b64b-afe25625db5f",
   "metadata": {},
   "outputs": [
    {
     "data": {
      "text/plain": [
       "(11517, 3165)"
      ]
     },
     "execution_count": 16,
     "metadata": {},
     "output_type": "execute_result"
    }
   ],
   "source": [
    "X_test_transformed_df.shape"
   ]
  },
  {
   "cell_type": "code",
   "execution_count": 17,
   "id": "b2a90c52-4055-4044-aa76-06b6865df3b4",
   "metadata": {},
   "outputs": [
    {
     "data": {
      "text/plain": [
       "(46065, 3165)"
      ]
     },
     "execution_count": 17,
     "metadata": {},
     "output_type": "execute_result"
    }
   ],
   "source": [
    "X_train_transformed_df.shape"
   ]
  },
  {
   "cell_type": "code",
   "execution_count": 18,
   "id": "4f55fc81-4e2b-4cb5-ac17-204ff82d875c",
   "metadata": {
    "tags": []
   },
   "outputs": [],
   "source": [
    "model_list = {\n",
    "    \"LogisticRegression\" : LogisticRegression(),\n",
    "    \"RandomForestClassifier\" : RandomForestClassifier(),\n",
    "    \"DecisionTreeClassifier\" : DecisionTreeClassifier(),\n",
    "}"
   ]
  },
  {
   "cell_type": "code",
   "execution_count": 19,
   "id": "2deaf4a9-3dd3-4d90-89ba-8870579ac8da",
   "metadata": {
    "tags": []
   },
   "outputs": [
    {
     "data": {
      "text/html": [
       "<style>#sk-container-id-1 {color: black;}#sk-container-id-1 pre{padding: 0;}#sk-container-id-1 div.sk-toggleable {background-color: white;}#sk-container-id-1 label.sk-toggleable__label {cursor: pointer;display: block;width: 100%;margin-bottom: 0;padding: 0.3em;box-sizing: border-box;text-align: center;}#sk-container-id-1 label.sk-toggleable__label-arrow:before {content: \"▸\";float: left;margin-right: 0.25em;color: #696969;}#sk-container-id-1 label.sk-toggleable__label-arrow:hover:before {color: black;}#sk-container-id-1 div.sk-estimator:hover label.sk-toggleable__label-arrow:before {color: black;}#sk-container-id-1 div.sk-toggleable__content {max-height: 0;max-width: 0;overflow: hidden;text-align: left;background-color: #f0f8ff;}#sk-container-id-1 div.sk-toggleable__content pre {margin: 0.2em;color: black;border-radius: 0.25em;background-color: #f0f8ff;}#sk-container-id-1 input.sk-toggleable__control:checked~div.sk-toggleable__content {max-height: 200px;max-width: 100%;overflow: auto;}#sk-container-id-1 input.sk-toggleable__control:checked~label.sk-toggleable__label-arrow:before {content: \"▾\";}#sk-container-id-1 div.sk-estimator input.sk-toggleable__control:checked~label.sk-toggleable__label {background-color: #d4ebff;}#sk-container-id-1 div.sk-label input.sk-toggleable__control:checked~label.sk-toggleable__label {background-color: #d4ebff;}#sk-container-id-1 input.sk-hidden--visually {border: 0;clip: rect(1px 1px 1px 1px);clip: rect(1px, 1px, 1px, 1px);height: 1px;margin: -1px;overflow: hidden;padding: 0;position: absolute;width: 1px;}#sk-container-id-1 div.sk-estimator {font-family: monospace;background-color: #f0f8ff;border: 1px dotted black;border-radius: 0.25em;box-sizing: border-box;margin-bottom: 0.5em;}#sk-container-id-1 div.sk-estimator:hover {background-color: #d4ebff;}#sk-container-id-1 div.sk-parallel-item::after {content: \"\";width: 100%;border-bottom: 1px solid gray;flex-grow: 1;}#sk-container-id-1 div.sk-label:hover label.sk-toggleable__label {background-color: #d4ebff;}#sk-container-id-1 div.sk-serial::before {content: \"\";position: absolute;border-left: 1px solid gray;box-sizing: border-box;top: 0;bottom: 0;left: 50%;z-index: 0;}#sk-container-id-1 div.sk-serial {display: flex;flex-direction: column;align-items: center;background-color: white;padding-right: 0.2em;padding-left: 0.2em;position: relative;}#sk-container-id-1 div.sk-item {position: relative;z-index: 1;}#sk-container-id-1 div.sk-parallel {display: flex;align-items: stretch;justify-content: center;background-color: white;position: relative;}#sk-container-id-1 div.sk-item::before, #sk-container-id-1 div.sk-parallel-item::before {content: \"\";position: absolute;border-left: 1px solid gray;box-sizing: border-box;top: 0;bottom: 0;left: 50%;z-index: -1;}#sk-container-id-1 div.sk-parallel-item {display: flex;flex-direction: column;z-index: 1;position: relative;background-color: white;}#sk-container-id-1 div.sk-parallel-item:first-child::after {align-self: flex-end;width: 50%;}#sk-container-id-1 div.sk-parallel-item:last-child::after {align-self: flex-start;width: 50%;}#sk-container-id-1 div.sk-parallel-item:only-child::after {width: 0;}#sk-container-id-1 div.sk-dashed-wrapped {border: 1px dashed gray;margin: 0 0.4em 0.5em 0.4em;box-sizing: border-box;padding-bottom: 0.4em;background-color: white;}#sk-container-id-1 div.sk-label label {font-family: monospace;font-weight: bold;display: inline-block;line-height: 1.2em;}#sk-container-id-1 div.sk-label-container {text-align: center;}#sk-container-id-1 div.sk-container {/* jupyter's `normalize.less` sets `[hidden] { display: none; }` but bootstrap.min.css set `[hidden] { display: none !important; }` so we also need the `!important` here to be able to override the default hidden behavior on the sphinx rendered scikit-learn.org. See: https://github.com/scikit-learn/scikit-learn/issues/21755 */display: inline-block !important;position: relative;}#sk-container-id-1 div.sk-text-repr-fallback {display: none;}</style><div id=\"sk-container-id-1\" class=\"sk-top-container\"><div class=\"sk-text-repr-fallback\"><pre>LogisticRegression()</pre><b>In a Jupyter environment, please rerun this cell to show the HTML representation or trust the notebook. <br />On GitHub, the HTML representation is unable to render, please try loading this page with nbviewer.org.</b></div><div class=\"sk-container\" hidden><div class=\"sk-item\"><div class=\"sk-estimator sk-toggleable\"><input class=\"sk-toggleable__control sk-hidden--visually\" id=\"sk-estimator-id-1\" type=\"checkbox\" checked><label for=\"sk-estimator-id-1\" class=\"sk-toggleable__label sk-toggleable__label-arrow\">LogisticRegression</label><div class=\"sk-toggleable__content\"><pre>LogisticRegression()</pre></div></div></div></div></div>"
      ],
      "text/plain": [
       "LogisticRegression()"
      ]
     },
     "execution_count": 19,
     "metadata": {},
     "output_type": "execute_result"
    }
   ],
   "source": [
    "lr = LogisticRegression()\n",
    "lr.fit(X_train_transformed,y_train)"
   ]
  },
  {
   "cell_type": "code",
   "execution_count": 20,
   "id": "05cd1a1a-1c70-49be-ab2f-bd34bba9204e",
   "metadata": {
    "tags": []
   },
   "outputs": [
    {
     "data": {
      "text/plain": [
       "0.8403230007814535"
      ]
     },
     "execution_count": 20,
     "metadata": {},
     "output_type": "execute_result"
    }
   ],
   "source": [
    "y_pred = lr.predict(X_test_transformed)\n",
    "accuracy_score(y_test,y_pred)"
   ]
  },
  {
   "cell_type": "code",
   "execution_count": 30,
   "id": "163e8ada-d61c-487e-b583-a8b95df9f387",
   "metadata": {},
   "outputs": [
    {
     "data": {
      "text/html": [
       "<div>\n",
       "<style scoped>\n",
       "    .dataframe tbody tr th:only-of-type {\n",
       "        vertical-align: middle;\n",
       "    }\n",
       "\n",
       "    .dataframe tbody tr th {\n",
       "        vertical-align: top;\n",
       "    }\n",
       "\n",
       "    .dataframe thead th {\n",
       "        text-align: right;\n",
       "    }\n",
       "</style>\n",
       "<table border=\"1\" class=\"dataframe\">\n",
       "  <thead>\n",
       "    <tr style=\"text-align: right;\">\n",
       "      <th></th>\n",
       "      <th>year_of_birth</th>\n",
       "      <th>gender</th>\n",
       "      <th>ethnicity</th>\n",
       "      <th>child_first_name</th>\n",
       "      <th>count</th>\n",
       "      <th>rank</th>\n",
       "      <th>target</th>\n",
       "    </tr>\n",
       "  </thead>\n",
       "  <tbody>\n",
       "    <tr>\n",
       "      <th>0</th>\n",
       "      <td>2011</td>\n",
       "      <td>FEMALE</td>\n",
       "      <td>HISPANIC</td>\n",
       "      <td>GERALDINE</td>\n",
       "      <td>13</td>\n",
       "      <td>75</td>\n",
       "      <td>3</td>\n",
       "    </tr>\n",
       "    <tr>\n",
       "      <th>1</th>\n",
       "      <td>2011</td>\n",
       "      <td>FEMALE</td>\n",
       "      <td>HISPANIC</td>\n",
       "      <td>GIA</td>\n",
       "      <td>21</td>\n",
       "      <td>67</td>\n",
       "      <td>3</td>\n",
       "    </tr>\n",
       "    <tr>\n",
       "      <th>2</th>\n",
       "      <td>2011</td>\n",
       "      <td>FEMALE</td>\n",
       "      <td>HISPANIC</td>\n",
       "      <td>GIANNA</td>\n",
       "      <td>49</td>\n",
       "      <td>42</td>\n",
       "      <td>2</td>\n",
       "    </tr>\n",
       "    <tr>\n",
       "      <th>3</th>\n",
       "      <td>2011</td>\n",
       "      <td>FEMALE</td>\n",
       "      <td>HISPANIC</td>\n",
       "      <td>GISELLE</td>\n",
       "      <td>38</td>\n",
       "      <td>51</td>\n",
       "      <td>3</td>\n",
       "    </tr>\n",
       "    <tr>\n",
       "      <th>4</th>\n",
       "      <td>2011</td>\n",
       "      <td>FEMALE</td>\n",
       "      <td>HISPANIC</td>\n",
       "      <td>GRACE</td>\n",
       "      <td>36</td>\n",
       "      <td>53</td>\n",
       "      <td>3</td>\n",
       "    </tr>\n",
       "  </tbody>\n",
       "</table>\n",
       "</div>"
      ],
      "text/plain": [
       "   year_of_birth  gender ethnicity child_first_name  count  rank  target\n",
       "0           2011  FEMALE  HISPANIC        GERALDINE     13    75       3\n",
       "1           2011  FEMALE  HISPANIC              GIA     21    67       3\n",
       "2           2011  FEMALE  HISPANIC           GIANNA     49    42       2\n",
       "3           2011  FEMALE  HISPANIC          GISELLE     38    51       3\n",
       "4           2011  FEMALE  HISPANIC            GRACE     36    53       3"
      ]
     },
     "execution_count": 30,
     "metadata": {},
     "output_type": "execute_result"
    }
   ],
   "source": [
    "df.head()"
   ]
  },
  {
   "cell_type": "code",
   "execution_count": 32,
   "id": "1f84ac44-9844-4b88-a210-8f71a4f7e9d5",
   "metadata": {
    "tags": []
   },
   "outputs": [
    {
     "name": "stdout",
     "output_type": "stream",
     "text": [
      "[3]\n"
     ]
    }
   ],
   "source": [
    "data = [[2011,\"FEMALE\",\"HISPANIC\",\"GERALDINE\",13]]\n",
    "data_df = pd.DataFrame(data, columns=['year_of_birth', 'gender', 'ethnicity', 'child_first_name', 'count'])\n",
    "\n",
    "# Transform the data using the pipeline\n",
    "X_transformed = pipeline.transform(data_df)\n",
    "\n",
    "# Make predictions using the trained classifier\n",
    "predictions = lr.predict(X_transformed)\n",
    "\n",
    "print(predictions)"
   ]
  },
  {
   "cell_type": "code",
   "execution_count": null,
   "id": "8ef10778-5ac2-4847-8193-8034c0ca52f2",
   "metadata": {},
   "outputs": [],
   "source": []
  },
  {
   "cell_type": "code",
   "execution_count": null,
   "id": "d3f6aa7b-af08-4fb4-b626-3ad10ac8665f",
   "metadata": {},
   "outputs": [],
   "source": []
  },
  {
   "cell_type": "code",
   "execution_count": null,
   "id": "80137e37-f784-4f2e-bad8-0cbd95df4b6d",
   "metadata": {},
   "outputs": [],
   "source": []
  },
  {
   "cell_type": "code",
   "execution_count": null,
   "id": "d4d51d96-b9bc-4f6e-ad54-b15d10a2c880",
   "metadata": {},
   "outputs": [],
   "source": []
  },
  {
   "cell_type": "code",
   "execution_count": null,
   "id": "f5cc1b93-df41-4193-8b15-e74d99964882",
   "metadata": {},
   "outputs": [],
   "source": []
  }
 ],
 "metadata": {
  "kernelspec": {
   "display_name": "Python 3 (ipykernel)",
   "language": "python",
   "name": "python3"
  },
  "language_info": {
   "codemirror_mode": {
    "name": "ipython",
    "version": 3
   },
   "file_extension": ".py",
   "mimetype": "text/x-python",
   "name": "python",
   "nbconvert_exporter": "python",
   "pygments_lexer": "ipython3",
   "version": "3.11.5"
  }
 },
 "nbformat": 4,
 "nbformat_minor": 5
}
